{
 "cells": [
  {
   "cell_type": "markdown",
   "metadata": {},
   "source": [
    "# Machine Learning - Classification"
   ]
  },
  {
   "cell_type": "markdown",
   "metadata": {},
   "source": [
    "This module, we'll talk about another class of problems we can solve with machine learning. Classification is a subcategory of supervised learning where the goal is to predict the categorical class labels of new instances based on past observations.\n",
    "\n",
    "Generally, there are 2 main types of classification problems:\n",
    "- Binary: classifying  into 2 classes. (i.e., Spam and not-spam)\n",
    "- Multi-class classification: classifying into multiple classes. (i.e., images of handwritten character recognition)\n",
    "\n",
    "in it's simplest formats, the objective is to find a line or a plane that segregates the data points into different classes.\n",
    "![simple classification](./assets/simple-classification.png)"
   ]
  },
  {
   "cell_type": "code",
   "execution_count": 93,
   "metadata": {},
   "outputs": [],
   "source": [
    "# in this cell, we'll import all the libraries and packages we'll need in this tutorial.\n",
    "\n",
    "# Python ≥3.10 is required\n",
    "import sys\n",
    "assert sys.version_info >= (3, 10)\n",
    "\n",
    "# Common imports\n",
    "import numpy as np\n",
    "import pandas as pd\n",
    "import pandas_profiling\n",
    "import os\n",
    "\n",
    "# Scikit Learn imports\n",
    "from sklearn.preprocessing import (\n",
    "  OneHotEncoder,\n",
    "  OrdinalEncoder,\n",
    "  StandardScaler\n",
    ")\n",
    "from sklearn.impute import (\n",
    "  SimpleImputer\n",
    ")\n",
    "from sklearn.pipeline import Pipeline\n",
    "from sklearn.model_selection import (\n",
    "  StratifiedShuffleSplit,\n",
    "  train_test_split,\n",
    "  cross_val_score,\n",
    "  KFold,\n",
    "  GridSearchCV\n",
    ")\n",
    "from sklearn.compose import ColumnTransformer\n",
    "\n",
    "# Classifier Algorithms\n",
    "from sklearn.dummy import DummyClassifier\n",
    "from sklearn.linear_model import LogisticRegression\n",
    "from sklearn import metrics\n",
    "from sklearn.tree import DecisionTreeClassifier\n",
    "from sklearn.neighbors import KNeighborsClassifier\n",
    "from sklearn.naive_bayes import GaussianNB\n",
    "from sklearn.svm import SVC\n",
    "from sklearn.ensemble import RandomForestClassifier\n",
    "\n",
    "import pickle\n",
    "\n",
    "# To plot pretty figures\n",
    "%matplotlib inline\n",
    "import matplotlib as mpl\n",
    "import matplotlib.pyplot as plt\n",
    "import seaborn as sns\n",
    "\n",
    "mpl.rc('axes', labelsize=14)\n",
    "mpl.rc('xtick', labelsize=12)\n",
    "mpl.rc('ytick', labelsize=12)\n",
    "plt.style.use(\"bmh\")\n",
    "\n",
    "# to make this notebook's output stable across runs\n",
    "np.random.seed(42)"
   ]
  },
  {
   "cell_type": "markdown",
   "metadata": {},
   "source": [
    "## Titanic Survival\n",
    "In this tutorial we'll use the titanic dataset from [Encyclopedia Titanica](https://www.encyclopedia-titanica.org/). We will use to train a model that classifies passengers based on whether or not they've survived. The objective would be to develop a model that would predict survival based on other features and attributes.\n",
    "\n",
    "We'll start with importing the dataset from `data/titanic.csv`, and printing samples of the data."
   ]
  },
  {
   "cell_type": "code",
   "execution_count": 94,
   "metadata": {},
   "outputs": [
    {
     "data": {
      "text/html": [
       "<div>\n",
       "<style scoped>\n",
       "    .dataframe tbody tr th:only-of-type {\n",
       "        vertical-align: middle;\n",
       "    }\n",
       "\n",
       "    .dataframe tbody tr th {\n",
       "        vertical-align: top;\n",
       "    }\n",
       "\n",
       "    .dataframe thead th {\n",
       "        text-align: right;\n",
       "    }\n",
       "</style>\n",
       "<table border=\"1\" class=\"dataframe\">\n",
       "  <thead>\n",
       "    <tr style=\"text-align: right;\">\n",
       "      <th></th>\n",
       "      <th>pclass</th>\n",
       "      <th>survived</th>\n",
       "      <th>name</th>\n",
       "      <th>sex</th>\n",
       "      <th>age</th>\n",
       "      <th>sibsp</th>\n",
       "      <th>parch</th>\n",
       "      <th>ticket</th>\n",
       "      <th>fare</th>\n",
       "      <th>cabin</th>\n",
       "      <th>embarked</th>\n",
       "      <th>boat</th>\n",
       "      <th>body</th>\n",
       "      <th>home.dest</th>\n",
       "    </tr>\n",
       "  </thead>\n",
       "  <tbody>\n",
       "    <tr>\n",
       "      <th>0</th>\n",
       "      <td>1</td>\n",
       "      <td>1</td>\n",
       "      <td>Allen, Miss. Elisabeth Walton</td>\n",
       "      <td>female</td>\n",
       "      <td>29.00</td>\n",
       "      <td>0</td>\n",
       "      <td>0</td>\n",
       "      <td>24160</td>\n",
       "      <td>211.3375</td>\n",
       "      <td>B5</td>\n",
       "      <td>S</td>\n",
       "      <td>2</td>\n",
       "      <td>NaN</td>\n",
       "      <td>St Louis, MO</td>\n",
       "    </tr>\n",
       "    <tr>\n",
       "      <th>1</th>\n",
       "      <td>1</td>\n",
       "      <td>1</td>\n",
       "      <td>Allison, Master. Hudson Trevor</td>\n",
       "      <td>male</td>\n",
       "      <td>0.92</td>\n",
       "      <td>1</td>\n",
       "      <td>2</td>\n",
       "      <td>113781</td>\n",
       "      <td>151.5500</td>\n",
       "      <td>C22 C26</td>\n",
       "      <td>S</td>\n",
       "      <td>11</td>\n",
       "      <td>NaN</td>\n",
       "      <td>Montreal, PQ / Chesterville, ON</td>\n",
       "    </tr>\n",
       "    <tr>\n",
       "      <th>2</th>\n",
       "      <td>1</td>\n",
       "      <td>0</td>\n",
       "      <td>Allison, Miss. Helen Loraine</td>\n",
       "      <td>female</td>\n",
       "      <td>2.00</td>\n",
       "      <td>1</td>\n",
       "      <td>2</td>\n",
       "      <td>113781</td>\n",
       "      <td>151.5500</td>\n",
       "      <td>C22 C26</td>\n",
       "      <td>S</td>\n",
       "      <td>NaN</td>\n",
       "      <td>NaN</td>\n",
       "      <td>Montreal, PQ / Chesterville, ON</td>\n",
       "    </tr>\n",
       "    <tr>\n",
       "      <th>3</th>\n",
       "      <td>1</td>\n",
       "      <td>0</td>\n",
       "      <td>Allison, Mr. Hudson Joshua Creighton</td>\n",
       "      <td>male</td>\n",
       "      <td>30.00</td>\n",
       "      <td>1</td>\n",
       "      <td>2</td>\n",
       "      <td>113781</td>\n",
       "      <td>151.5500</td>\n",
       "      <td>C22 C26</td>\n",
       "      <td>S</td>\n",
       "      <td>NaN</td>\n",
       "      <td>135.0</td>\n",
       "      <td>Montreal, PQ / Chesterville, ON</td>\n",
       "    </tr>\n",
       "    <tr>\n",
       "      <th>4</th>\n",
       "      <td>1</td>\n",
       "      <td>0</td>\n",
       "      <td>Allison, Mrs. Hudson J C (Bessie Waldo Daniels)</td>\n",
       "      <td>female</td>\n",
       "      <td>25.00</td>\n",
       "      <td>1</td>\n",
       "      <td>2</td>\n",
       "      <td>113781</td>\n",
       "      <td>151.5500</td>\n",
       "      <td>C22 C26</td>\n",
       "      <td>S</td>\n",
       "      <td>NaN</td>\n",
       "      <td>NaN</td>\n",
       "      <td>Montreal, PQ / Chesterville, ON</td>\n",
       "    </tr>\n",
       "  </tbody>\n",
       "</table>\n",
       "</div>"
      ],
      "text/plain": [
       "   pclass  survived                                             name     sex  \\\n",
       "0       1         1                    Allen, Miss. Elisabeth Walton  female   \n",
       "1       1         1                   Allison, Master. Hudson Trevor    male   \n",
       "2       1         0                     Allison, Miss. Helen Loraine  female   \n",
       "3       1         0             Allison, Mr. Hudson Joshua Creighton    male   \n",
       "4       1         0  Allison, Mrs. Hudson J C (Bessie Waldo Daniels)  female   \n",
       "\n",
       "     age  sibsp  parch  ticket      fare    cabin embarked boat   body  \\\n",
       "0  29.00      0      0   24160  211.3375       B5        S    2    NaN   \n",
       "1   0.92      1      2  113781  151.5500  C22 C26        S   11    NaN   \n",
       "2   2.00      1      2  113781  151.5500  C22 C26        S  NaN    NaN   \n",
       "3  30.00      1      2  113781  151.5500  C22 C26        S  NaN  135.0   \n",
       "4  25.00      1      2  113781  151.5500  C22 C26        S  NaN    NaN   \n",
       "\n",
       "                         home.dest  \n",
       "0                     St Louis, MO  \n",
       "1  Montreal, PQ / Chesterville, ON  \n",
       "2  Montreal, PQ / Chesterville, ON  \n",
       "3  Montreal, PQ / Chesterville, ON  \n",
       "4  Montreal, PQ / Chesterville, ON  "
      ]
     },
     "execution_count": 94,
     "metadata": {},
     "output_type": "execute_result"
    }
   ],
   "source": [
    "titanic = pd.read_csv('data/titanic.csv')\n",
    "titanic.head()"
   ]
  },
  {
   "cell_type": "markdown",
   "metadata": {},
   "source": [
    "We see that we have the following features, this info was provided on the [Encyclopedia Titanica](https://www.encyclopedia-titanica.org/).\n",
    "\n",
    "| Feature     | Description                                                                                             |\n",
    "| ----------- | ------------------------------------------------------------------------------------------------------- |\n",
    "| `pclass`    | Passenger Class (1 = 1st; 2 = 2nd; 3 = 3rd). This can be considered as proxy for socio-economic status. |\n",
    "| `survived`  | Survival (0 = No; 1 = Yes)                                                                              |\n",
    "| `name`      | Name                                                                                                    |\n",
    "| `sex`       | Sex                                                                                                     |\n",
    "| `age`       | Age                                                                                                     |\n",
    "| `sibsp`     | Number of Siblings/Spouses Aboard                                                                       |\n",
    "| `parch`     | Number of Parents/Children Aboard                                                                       |\n",
    "| `ticket`    | Ticket Number                                                                                           |\n",
    "| `fare`      | Passenger Fare                                                                                          |\n",
    "| `cabin`     | Cabin                                                                                                   |\n",
    "| `embarked`  | Port of Embarkation (C = Cherbourg; Q = Queenstown; S = Southampton)                                    |\n",
    "| `boat`      | Lifeboat (if survived)                                                                                  |\n",
    "| `body`      | Body number (if did not survive and body was recovered)                                                 |\n",
    "| `home.dest` | Home/Destination                                                                                        |"
   ]
  },
  {
   "cell_type": "markdown",
   "metadata": {},
   "source": [
    "## Prepare - Some EDA\n",
    "Let's do some exploratory data analysis to get a better understanding of the data. "
   ]
  },
  {
   "cell_type": "code",
   "execution_count": 95,
   "metadata": {},
   "outputs": [
    {
     "name": "stdout",
     "output_type": "stream",
     "text": [
      "<class 'pandas.core.frame.DataFrame'>\n",
      "RangeIndex: 1309 entries, 0 to 1308\n",
      "Data columns (total 14 columns):\n",
      " #   Column     Non-Null Count  Dtype  \n",
      "---  ------     --------------  -----  \n",
      " 0   pclass     1309 non-null   int64  \n",
      " 1   survived   1309 non-null   int64  \n",
      " 2   name       1309 non-null   object \n",
      " 3   sex        1309 non-null   object \n",
      " 4   age        1046 non-null   float64\n",
      " 5   sibsp      1309 non-null   int64  \n",
      " 6   parch      1309 non-null   int64  \n",
      " 7   ticket     1309 non-null   object \n",
      " 8   fare       1308 non-null   float64\n",
      " 9   cabin      295 non-null    object \n",
      " 10  embarked   1307 non-null   object \n",
      " 11  boat       486 non-null    object \n",
      " 12  body       121 non-null    float64\n",
      " 13  home.dest  745 non-null    object \n",
      "dtypes: float64(3), int64(4), object(7)\n",
      "memory usage: 143.3+ KB\n"
     ]
    }
   ],
   "source": [
    "titanic.info()"
   ]
  },
  {
   "cell_type": "markdown",
   "metadata": {},
   "source": [
    "let's visualize the histogram of the data to see the distribution of the data."
   ]
  },
  {
   "cell_type": "code",
   "execution_count": 96,
   "metadata": {},
   "outputs": [
    {
     "data": {
      "image/png": "[encoded data removed]",
      "text/plain": [
       "<Figure size 2000x1500 with 9 Axes>"
      ]
     },
     "metadata": {},
     "output_type": "display_data"
    }
   ],
   "source": [
    "# REMEMBER: number of bins indicate the number if intervals we want to divide our data into\n",
    "titanic.hist(bins=50, figsize=(20,15))\n",
    "plt.show()"
   ]
  },
  {
   "cell_type": "markdown",
   "metadata": {},
   "source": [
    "> 🦉 **Note**: Take a moment and try to make some observations based on the above before you continue reading the below."
   ]
  },
  {
   "cell_type": "markdown",
   "metadata": {},
   "source": [
    "We can observer the following:\n",
    "\n",
    "- Most of the passengers were in the 3rd class.\n",
    "- `survived` is the target variable, and we can see that most of the passengers did not survive.\n",
    "- Majority of passengers were traveling alone (no siblings or spouses, no parents or children).\n",
    "- There's a lot of missing data in the `cabin`, and `age` columns.\n",
    "- `pclass`, `sex`, `embarked` are categorical variables.\n",
    "\n",
    "| Column     | Type                                          | notes                                                                                                                                   |\n",
    "| ---------- | --------------------------------------------- | --------------------------------------------------------------------------------------------------------------------------------------- |\n",
    "| pclass     | categorical - ordinal                         |                                                                                                                                         |\n",
    "| name       | string - would this be valuable to our model? |                                                                                                                                         |\n",
    "| sex        | categorical - nominal                         |                                                                                                                                         |\n",
    "| age        | numerical - continuous                        | the reason why it's not discrete, is that we see the column type set to float64, and some of the values are 0.92 (less than a year old) |\n",
    "| sibsp      | numerical - discrete                          |                                                                                                                                         |\n",
    "| parch      | numerical - discrete                          |                                                                                                                                         |\n",
    "| ticket     | string - would this be valuable to our model? |                                                                                                                                         |\n",
    "| fare       | numerical - continuous                        |                                                                                                                                         |\n",
    "| cabin      | _(Quiz Question)_                             |                                                                                                                                         |\n",
    "| embarked   | Categorical - could be ordinal or nominal     | Do we think people who boarded first, had better chances of survival?                                                                   |\n",
    "| boat       | string                                        | boat identifier                                                                                                                         |\n",
    "| body       | numerical (or string)                         | body ID                                                                                                                                 |\n",
    "| home. dest |                                               |                                                                                                                                         |\n",
    "| survived   | category _(ordinal, or nominal?)_             |                                                                                                                                         |\n",
    "\n",
    "- we also realize that both `boat` and `body` are what we call **Leaky Features**. These are features that kind of gives the answer about the future. Having a `body` number, means they didn't survive. These are features that are not available at the time of prediction, and therefore should not be used in the model. We'll drop these features later on.\n"
   ]
  },
  {
   "cell_type": "markdown",
   "metadata": {},
   "source": [
    "**how about missing values?**"
   ]
  },
  {
   "cell_type": "code",
   "execution_count": 97,
   "metadata": {},
   "outputs": [
    {
     "data": {
      "text/plain": [
       "pclass          0\n",
       "survived        0\n",
       "name            0\n",
       "sex             0\n",
       "age           263\n",
       "sibsp           0\n",
       "parch           0\n",
       "ticket          0\n",
       "fare            1\n",
       "cabin        1014\n",
       "embarked        2\n",
       "boat          823\n",
       "body         1188\n",
       "home.dest     564\n",
       "dtype: int64"
      ]
     },
     "execution_count": 97,
     "metadata": {},
     "output_type": "execute_result"
    }
   ],
   "source": [
    "titanic.isnull().sum()"
   ]
  },
  {
   "cell_type": "markdown",
   "metadata": {},
   "source": [
    "We will need to impute the missing values in the Age column.\n",
    "\n",
    "**BUT** we shouldn't do any of that until the data is split into training and test sets. We don't want to introduce any bias into the data."
   ]
  },
  {
   "cell_type": "markdown",
   "metadata": {},
   "source": [
    "Let me show another interesting library called `pandas_profiling`. This library will generate a report of the data, and it's very useful for exploratory data analysis.\n",
    "\n",
    "if you don't already have it installed, you can install it with `pipenv install pandas-profiling ipywidgets`.\n",
    "\n",
    "> 🦉 **Note**: The report looks like a webpage embedded in the notebook, if you're using Jupyter Lab or VSCode. It may look a bit different if you're viewing this directly on GitHub."
   ]
  },
  {
   "cell_type": "code",
   "execution_count": 98,
   "metadata": {},
   "outputs": [],
   "source": [
    "# pandas_profiling.ProfileReport(titanic, title='Pandas Profiling Report')"
   ]
  },
  {
   "cell_type": "markdown",
   "metadata": {},
   "source": [
    "The generated report is able, to a high degree of correctness, to detect the data types of the columns, and also detect missing values.\n",
    "It's able to show the distribution of the data, and also the correlation between the features."
   ]
  },
  {
   "cell_type": "markdown",
   "metadata": {},
   "source": [
    "Before we proceed any further, and before we start cleaning, the data, dropping columns, or anything else, we need to split the data into training and test sets."
   ]
  },
  {
   "cell_type": "markdown",
   "metadata": {},
   "source": [
    "____________________"
   ]
  },
  {
   "cell_type": "markdown",
   "metadata": {},
   "source": [
    "## Prepare - Data Splitting\n",
    "\n",
    "- should we stratify or not?\n",
    "With large datasets, stratified sampling is a good idea. This is because we want to make sure that the training and test sets have the same distribution of the target variable.\n",
    "\n",
    "in talking with a hypothetical subject-matter expert (SME), they mentioned that when splitting the data, we need:\n",
    "- all passenger classes needs to be represented in the dataset with the same frequency as they appear in the original dataset.\n",
    "- They also had a theory that the `embarked` column may have some effect  SME suggested that we should use `embarked` as the stratification feature.\n",
    "\n",
    "Another SME suggested that `sex` is a more important feature to startify the data split on, and that we should use that instead.\n",
    "\n",
    "```python\n",
    "split = StratifiedShuffleSplit(n_splits=1, test_size=0.2, random_state=56)\n",
    "\n",
    "for train_index, test_index in split.split(titanic, titanic['embarked']):\n",
    "  strat_train_set = titanic.loc[train_index]\n",
    "  strat_test_set = titanic.loc[test_index]\n",
    "```\n"
   ]
  },
  {
   "cell_type": "code",
   "execution_count": 99,
   "metadata": {},
   "outputs": [],
   "source": [
    "train_set, test_set = train_test_split(titanic, test_size= 0.2, random_state=45)"
   ]
  },
  {
   "cell_type": "markdown",
   "metadata": {},
   "source": [
    "Let's also separate the features from the labels"
   ]
  },
  {
   "cell_type": "code",
   "execution_count": 100,
   "metadata": {},
   "outputs": [],
   "source": [
    "titanic_X = train_set.drop('survived', axis=1)\n",
    "titanic_y = train_set['survived'].copy()"
   ]
  },
  {
   "cell_type": "markdown",
   "metadata": {},
   "source": [
    "_______________________"
   ]
  },
  {
   "cell_type": "markdown",
   "metadata": {},
   "source": [
    "## Process - Data Cleaning\n",
    "### Dropping Features\n",
    "We generally drop columns that have no signal, or no variance, or not useful for the model. We also drop columns that are **Leaky Features**.\n",
    "\n",
    "* `name` column\n",
    "  - unless we're doing some fancy Natural Language Processing (NLP), or we have some theory about the names may have an effect on the survival rate, (like easier names were easier to remember and call out, and therefore easier to save 🤷‍♂️),  we can drop the `name` column.\n",
    "* `ticket` column\n",
    "  - we can drop the `ticket` column, because it's just a ticket number, and it's not going to be useful for the model.\n",
    "* `boat` column\n",
    "  - we can drop the `boat` column, because it's a leaky feature. if you got on a boat, you survived (very likely).\n",
    "* `body` column\n",
    "  - we can drop the `body` column, because it's a leaky feature. If you have a body number, you didn't survive.\n",
    "* `home.dest` column\n",
    "  - we can drop the `home.dest` column, because it's not going to be useful for the model.\n",
    "* `cabin` column\n",
    "  - we can drop the `cabin` column, because it's missing 77,5% of the data, and imputing it wouldn't not be effective.\n",
    "\n",
    "\n",
    "> 🦉 **Remember**: we separated the dataset into training and test sets, if we're going to drop the columns from one, we're going to remove from the other as well.\n",
    "\n",
    "Previously, we used the `.drop()` method to drop the columns. and we had to call it twice, once for the training set, and once for the test set.\n",
    "\n",
    "```python\n",
    "train_set.drop(['name', 'ticket', 'boat', 'body', 'home.dest'], axis=1, inplace=True)\n",
    "test_set.drop(['name', 'ticket', 'boat', 'body', 'home.dest'], axis=1, inplace=True)\n",
    "```\n",
    "\n",
    "But we've also learned about creating a pipeline. Pipelines allow us to chain together multiple transformations that we can apply to both the training and test sets. \n",
    "\n",
    "If you remember, we have used the `ColumnTransformer` before to apply different transformation to the *Numerical* and *Categorical* features. I will also use it this week to drop columns as well.\n",
    "\n",
    "**We can use the `ColumnTransformer` to drop columns.**\n",
    "\n",
    "So let's start by creating our full pipeline that we'll use in the data cleaning process."
   ]
  },
  {
   "cell_type": "code",
   "execution_count": 101,
   "metadata": {},
   "outputs": [],
   "source": [
    "drop_columns = ['name', 'ticket', 'boat', 'body', 'home.dest', 'cabin']\n",
    "\n",
    "full_pipeline = ColumnTransformer([\n",
    "  ('drop_columns', 'drop', drop_columns),\n",
    "], remainder='passthrough')"
   ]
  },
  {
   "cell_type": "markdown",
   "metadata": {},
   "source": [
    "> ** 🦉 **Remember**: Note because the last (technically the only) transformer in the pipeline is not a transformer that supports `fit` and `transform` methods, but a special-cased string, we need to use the `passthrough` keyword for the remainder of data going through the pipeline. [📜 Learn more about this here](https://scikit-learn.org/stable/modules/generated/sklearn.compose.ColumnTransformer.html)\n",
    "\n",
    "to execute the pipeline, we'll use the `fit_transform()` method. This method will execute the pipeline, and return the transformed data as a numpy n-dimensional array."
   ]
  },
  {
   "cell_type": "code",
   "execution_count": 102,
   "metadata": {},
   "outputs": [
    {
     "data": {
      "text/html": [
       "<div>\n",
       "<style scoped>\n",
       "    .dataframe tbody tr th:only-of-type {\n",
       "        vertical-align: middle;\n",
       "    }\n",
       "\n",
       "    .dataframe tbody tr th {\n",
       "        vertical-align: top;\n",
       "    }\n",
       "\n",
       "    .dataframe thead th {\n",
       "        text-align: right;\n",
       "    }\n",
       "</style>\n",
       "<table border=\"1\" class=\"dataframe\">\n",
       "  <thead>\n",
       "    <tr style=\"text-align: right;\">\n",
       "      <th></th>\n",
       "      <th>pclass</th>\n",
       "      <th>sex</th>\n",
       "      <th>age</th>\n",
       "      <th>sibsp</th>\n",
       "      <th>parch</th>\n",
       "      <th>fare</th>\n",
       "      <th>embarked</th>\n",
       "    </tr>\n",
       "  </thead>\n",
       "  <tbody>\n",
       "    <tr>\n",
       "      <th>801</th>\n",
       "      <td>3</td>\n",
       "      <td>male</td>\n",
       "      <td>NaN</td>\n",
       "      <td>0</td>\n",
       "      <td>0</td>\n",
       "      <td>7.75</td>\n",
       "      <td>Q</td>\n",
       "    </tr>\n",
       "    <tr>\n",
       "      <th>361</th>\n",
       "      <td>2</td>\n",
       "      <td>female</td>\n",
       "      <td>22.0</td>\n",
       "      <td>1</td>\n",
       "      <td>1</td>\n",
       "      <td>29.0</td>\n",
       "      <td>S</td>\n",
       "    </tr>\n",
       "    <tr>\n",
       "      <th>440</th>\n",
       "      <td>2</td>\n",
       "      <td>female</td>\n",
       "      <td>48.0</td>\n",
       "      <td>1</td>\n",
       "      <td>2</td>\n",
       "      <td>65.0</td>\n",
       "      <td>S</td>\n",
       "    </tr>\n",
       "    <tr>\n",
       "      <th>523</th>\n",
       "      <td>2</td>\n",
       "      <td>male</td>\n",
       "      <td>22.0</td>\n",
       "      <td>0</td>\n",
       "      <td>0</td>\n",
       "      <td>10.5</td>\n",
       "      <td>S</td>\n",
       "    </tr>\n",
       "    <tr>\n",
       "      <th>1158</th>\n",
       "      <td>3</td>\n",
       "      <td>female</td>\n",
       "      <td>41.0</td>\n",
       "      <td>0</td>\n",
       "      <td>2</td>\n",
       "      <td>20.2125</td>\n",
       "      <td>S</td>\n",
       "    </tr>\n",
       "  </tbody>\n",
       "</table>\n",
       "</div>"
      ],
      "text/plain": [
       "     pclass     sex   age sibsp parch     fare embarked\n",
       "801       3    male   NaN     0     0     7.75        Q\n",
       "361       2  female  22.0     1     1     29.0        S\n",
       "440       2  female  48.0     1     2     65.0        S\n",
       "523       2    male  22.0     0     0     10.5        S\n",
       "1158      3  female  41.0     0     2  20.2125        S"
      ]
     },
     "execution_count": 102,
     "metadata": {},
     "output_type": "execute_result"
    }
   ],
   "source": [
    "# Apply the Transformation\n",
    "transformed_train_set = full_pipeline.fit_transform(titanic_X)\n",
    "\n",
    "# Transform the numpy n-dimensional array into a pandas dataframe\n",
    "transformed_train_set = pd.DataFrame(transformed_train_set, columns=titanic_X.columns.drop(drop_columns), index=titanic_X.index)\n",
    "transformed_train_set.head()"
   ]
  },
  {
   "cell_type": "markdown",
   "metadata": {},
   "source": [
    "### Imputing Missing Values\n",
    "#### The Why...\n",
    "Imputing missing values is a very important step in the data cleaning process. We can't just drop the rows with missing values, because we'll lose a lot of data. Instead we calculate a value that will replace the missing value. This value is called the **Imputed Value**.\n",
    "\n",
    "Even if there was no missing values in the training set, there may be missing values in the test set, or in new data points. So we need to make sure that we do the imputation when building the training set the imputation is done on both the training and test sets.\n",
    "\n",
    "#### The How...\n",
    "Generally, we use the `median` value to impute missing values , because it's not affected by outliers. But we can also use the mean value, or the most frequent value.\n",
    "\n",
    "We can use the `mean` and `median` with numerical features, and the `most_frequent` with numerical and categorical features. [📜 Learn more about this here](https://scikit-learn.org/stable/modules/generated/sklearn.impute.SimpleImputer.html)\n",
    "\n",
    "so looks like we need a different imputer for each type of feature (numerical and categorical). So let's let's create 2 lists of feature names, one for numerical features, and one for categorical features. each set will use a different pipeline and a different imputer. "
   ]
  },
  {
   "cell_type": "code",
   "execution_count": 103,
   "metadata": {},
   "outputs": [],
   "source": [
    "num_features = ['age', 'sibsp', 'parch', 'fare']\n",
    "cat_features = ['pclass', 'sex', 'embarked']\n",
    "\n",
    "num_pipeline = Pipeline([\n",
    "  ('imputer', SimpleImputer(strategy='median'))\n",
    "])\n",
    "\n",
    "cat_pipeline = Pipeline([\n",
    "  ('imputer', SimpleImputer(strategy='most_frequent')),\n",
    "])\n",
    "\n",
    "# modified the previous `full_pipeline` to include the `num_pipeline` and `cat_pipeline`\n",
    "full_pipeline = ColumnTransformer([\n",
    "  ('drop_columns', 'drop', drop_columns),\n",
    "  ('num', num_pipeline, num_features),\n",
    "  ('cat', cat_pipeline, cat_features)\n",
    "])"
   ]
  },
  {
   "cell_type": "markdown",
   "metadata": {},
   "source": [
    "**Detour - not really** \n",
    "\n",
    "If we use the same cell to print out the result of the new transformation, we'll notice the column names are not in the correct order anymore.\n",
    "\n",
    "Check out the `fare` column for example to realize what's happened."
   ]
  },
  {
   "cell_type": "code",
   "execution_count": 104,
   "metadata": {},
   "outputs": [
    {
     "data": {
      "text/html": [
       "<div>\n",
       "<style scoped>\n",
       "    .dataframe tbody tr th:only-of-type {\n",
       "        vertical-align: middle;\n",
       "    }\n",
       "\n",
       "    .dataframe tbody tr th {\n",
       "        vertical-align: top;\n",
       "    }\n",
       "\n",
       "    .dataframe thead th {\n",
       "        text-align: right;\n",
       "    }\n",
       "</style>\n",
       "<table border=\"1\" class=\"dataframe\">\n",
       "  <thead>\n",
       "    <tr style=\"text-align: right;\">\n",
       "      <th></th>\n",
       "      <th>pclass</th>\n",
       "      <th>sex</th>\n",
       "      <th>age</th>\n",
       "      <th>sibsp</th>\n",
       "      <th>parch</th>\n",
       "      <th>fare</th>\n",
       "      <th>embarked</th>\n",
       "    </tr>\n",
       "  </thead>\n",
       "  <tbody>\n",
       "    <tr>\n",
       "      <th>801</th>\n",
       "      <td>28.0</td>\n",
       "      <td>0.0</td>\n",
       "      <td>0.0</td>\n",
       "      <td>7.75</td>\n",
       "      <td>3</td>\n",
       "      <td>male</td>\n",
       "      <td>Q</td>\n",
       "    </tr>\n",
       "    <tr>\n",
       "      <th>361</th>\n",
       "      <td>22.0</td>\n",
       "      <td>1.0</td>\n",
       "      <td>1.0</td>\n",
       "      <td>29.0</td>\n",
       "      <td>2</td>\n",
       "      <td>female</td>\n",
       "      <td>S</td>\n",
       "    </tr>\n",
       "    <tr>\n",
       "      <th>440</th>\n",
       "      <td>48.0</td>\n",
       "      <td>1.0</td>\n",
       "      <td>2.0</td>\n",
       "      <td>65.0</td>\n",
       "      <td>2</td>\n",
       "      <td>female</td>\n",
       "      <td>S</td>\n",
       "    </tr>\n",
       "    <tr>\n",
       "      <th>523</th>\n",
       "      <td>22.0</td>\n",
       "      <td>0.0</td>\n",
       "      <td>0.0</td>\n",
       "      <td>10.5</td>\n",
       "      <td>2</td>\n",
       "      <td>male</td>\n",
       "      <td>S</td>\n",
       "    </tr>\n",
       "    <tr>\n",
       "      <th>1158</th>\n",
       "      <td>41.0</td>\n",
       "      <td>0.0</td>\n",
       "      <td>2.0</td>\n",
       "      <td>20.2125</td>\n",
       "      <td>3</td>\n",
       "      <td>female</td>\n",
       "      <td>S</td>\n",
       "    </tr>\n",
       "  </tbody>\n",
       "</table>\n",
       "</div>"
      ],
      "text/plain": [
       "     pclass  sex  age    sibsp parch    fare embarked\n",
       "801    28.0  0.0  0.0     7.75     3    male        Q\n",
       "361    22.0  1.0  1.0     29.0     2  female        S\n",
       "440    48.0  1.0  2.0     65.0     2  female        S\n",
       "523    22.0  0.0  0.0     10.5     2    male        S\n",
       "1158   41.0  0.0  2.0  20.2125     3  female        S"
      ]
     },
     "execution_count": 104,
     "metadata": {},
     "output_type": "execute_result"
    }
   ],
   "source": [
    "# Apply the Transformation\n",
    "transformed_train_set = full_pipeline.fit_transform(titanic_X)\n",
    "\n",
    "# Transform the numpy n-dimensional array into a pandas dataframe\n",
    "transformed_train_set = pd.DataFrame(transformed_train_set, columns=titanic_X.columns.drop(drop_columns), index=titanic_X.index)\n",
    "transformed_train_set.head()"
   ]
  },
  {
   "cell_type": "markdown",
   "metadata": {},
   "source": [
    "The pipeline reorders the features in the order provided in the `ColumnTransformer` for the `num_pipeline` and `cat_pipeline`\n",
    "\n",
    "to get the list of the features in the new order, we can use the `get_feature_names_out()` method on the `full_pipeline`"
   ]
  },
  {
   "cell_type": "code",
   "execution_count": 105,
   "metadata": {},
   "outputs": [
    {
     "data": {
      "text/plain": [
       "array(['num__age', 'num__sibsp', 'num__parch', 'num__fare', 'cat__pclass',\n",
       "       'cat__sex', 'cat__embarked'], dtype=object)"
      ]
     },
     "execution_count": 105,
     "metadata": {},
     "output_type": "execute_result"
    }
   ],
   "source": [
    "full_pipeline.get_feature_names_out()"
   ]
  },
  {
   "cell_type": "markdown",
   "metadata": {},
   "source": [
    "Note how the pipeline prefixes the feature names with the name of the pipeline\n",
    "\n",
    "To get a list of the original features names  in the new order, I will use a technique called **List Comprehension** to construct a new list based on looping over the new names and removing the prefix with the `replace` function."
   ]
  },
  {
   "cell_type": "code",
   "execution_count": 106,
   "metadata": {},
   "outputs": [
    {
     "data": {
      "text/plain": [
       "['age', 'sibsp', 'parch', 'fare', 'pclass', 'sex', 'embarked']"
      ]
     },
     "execution_count": 106,
     "metadata": {},
     "output_type": "execute_result"
    }
   ],
   "source": [
    "column_names = [ \n",
    "  feature.replace('num__', '').replace('cat__', '') \n",
    "  for feature in full_pipeline.get_feature_names_out()\n",
    "]\n",
    "column_names"
   ]
  },
  {
   "cell_type": "markdown",
   "metadata": {},
   "source": [
    "Let's run the transformation and conversion cell again, and see the result.\n",
    "\n",
    "Here we'll update the columns property provided to the `DataFrame` constructor to use the new list of feature names."
   ]
  },
  {
   "cell_type": "code",
   "execution_count": 107,
   "metadata": {},
   "outputs": [
    {
     "data": {
      "text/html": [
       "<div>\n",
       "<style scoped>\n",
       "    .dataframe tbody tr th:only-of-type {\n",
       "        vertical-align: middle;\n",
       "    }\n",
       "\n",
       "    .dataframe tbody tr th {\n",
       "        vertical-align: top;\n",
       "    }\n",
       "\n",
       "    .dataframe thead th {\n",
       "        text-align: right;\n",
       "    }\n",
       "</style>\n",
       "<table border=\"1\" class=\"dataframe\">\n",
       "  <thead>\n",
       "    <tr style=\"text-align: right;\">\n",
       "      <th></th>\n",
       "      <th>age</th>\n",
       "      <th>sibsp</th>\n",
       "      <th>parch</th>\n",
       "      <th>fare</th>\n",
       "      <th>pclass</th>\n",
       "      <th>sex</th>\n",
       "      <th>embarked</th>\n",
       "    </tr>\n",
       "  </thead>\n",
       "  <tbody>\n",
       "    <tr>\n",
       "      <th>801</th>\n",
       "      <td>28.0</td>\n",
       "      <td>0.0</td>\n",
       "      <td>0.0</td>\n",
       "      <td>7.75</td>\n",
       "      <td>3</td>\n",
       "      <td>male</td>\n",
       "      <td>Q</td>\n",
       "    </tr>\n",
       "    <tr>\n",
       "      <th>361</th>\n",
       "      <td>22.0</td>\n",
       "      <td>1.0</td>\n",
       "      <td>1.0</td>\n",
       "      <td>29.0</td>\n",
       "      <td>2</td>\n",
       "      <td>female</td>\n",
       "      <td>S</td>\n",
       "    </tr>\n",
       "    <tr>\n",
       "      <th>440</th>\n",
       "      <td>48.0</td>\n",
       "      <td>1.0</td>\n",
       "      <td>2.0</td>\n",
       "      <td>65.0</td>\n",
       "      <td>2</td>\n",
       "      <td>female</td>\n",
       "      <td>S</td>\n",
       "    </tr>\n",
       "    <tr>\n",
       "      <th>523</th>\n",
       "      <td>22.0</td>\n",
       "      <td>0.0</td>\n",
       "      <td>0.0</td>\n",
       "      <td>10.5</td>\n",
       "      <td>2</td>\n",
       "      <td>male</td>\n",
       "      <td>S</td>\n",
       "    </tr>\n",
       "    <tr>\n",
       "      <th>1158</th>\n",
       "      <td>41.0</td>\n",
       "      <td>0.0</td>\n",
       "      <td>2.0</td>\n",
       "      <td>20.2125</td>\n",
       "      <td>3</td>\n",
       "      <td>female</td>\n",
       "      <td>S</td>\n",
       "    </tr>\n",
       "  </tbody>\n",
       "</table>\n",
       "</div>"
      ],
      "text/plain": [
       "       age sibsp parch     fare pclass     sex embarked\n",
       "801   28.0   0.0   0.0     7.75      3    male        Q\n",
       "361   22.0   1.0   1.0     29.0      2  female        S\n",
       "440   48.0   1.0   2.0     65.0      2  female        S\n",
       "523   22.0   0.0   0.0     10.5      2    male        S\n",
       "1158  41.0   0.0   2.0  20.2125      3  female        S"
      ]
     },
     "execution_count": 107,
     "metadata": {},
     "output_type": "execute_result"
    }
   ],
   "source": [
    "# Apply the Transformation\n",
    "transformed_train_set = full_pipeline.fit_transform(titanic_X)\n",
    "\n",
    "# Transform the numpy n-dimensional array into a pandas dataframe\n",
    "transformed_train_set = pd.DataFrame(transformed_train_set, columns=column_names, index=titanic_X.index)\n",
    "transformed_train_set.head()"
   ]
  },
  {
   "cell_type": "markdown",
   "metadata": {},
   "source": [
    "to prove that no missing values exist anymore:"
   ]
  },
  {
   "cell_type": "code",
   "execution_count": 108,
   "metadata": {},
   "outputs": [
    {
     "data": {
      "text/plain": [
       "age         0\n",
       "sibsp       0\n",
       "parch       0\n",
       "fare        0\n",
       "pclass      0\n",
       "sex         0\n",
       "embarked    0\n",
       "dtype: int64"
      ]
     },
     "execution_count": 108,
     "metadata": {},
     "output_type": "execute_result"
    }
   ],
   "source": [
    "transformed_train_set.isnull().sum()"
   ]
  },
  {
   "cell_type": "markdown",
   "metadata": {},
   "source": [
    "## Standardization and Normalization\n",
    "### The Why...\n",
    "We need to standardize the numerical features, because we want to make sure that the features are on the same scale. If we don't do this, the features with a higher scale will have a higher weight in the model.\n",
    "\n",
    "Not all models require this step, decision trees for example, don't require this step. But we're going to use other models as well, so we'll do this for good measure.\n",
    "\n",
    "### The How...\n",
    "We can use the `StandardScaler` to standardize the numerical features. [📜 Learn more about this here](https://scikit-learn.org/stable/modules/generated/sklearn.preprocessing.StandardScaler.html)\n",
    "\n",
    "This is only applied to numerical features. It can be applied to categorical features as well, but it's not recommended, categorical features don't necessarily follow a normal distribution.\n",
    "\n",
    "We will need to modify the pipeline to add this step to numerical pipeline."
   ]
  },
  {
   "cell_type": "code",
   "execution_count": 109,
   "metadata": {},
   "outputs": [],
   "source": [
    "num_features = ['age', 'sibsp', 'parch', 'fare']\n",
    "cat_features = ['pclass', 'sex', 'embarked']\n",
    "\n",
    "num_pipeline = Pipeline([\n",
    "  ('imputer', SimpleImputer(strategy='median')),\n",
    "  ('scale', StandardScaler())\n",
    "])\n",
    "\n",
    "cat_pipeline = Pipeline([\n",
    "  ('imputer', SimpleImputer(strategy='most_frequent')),\n",
    "])\n",
    "\n",
    "# modified the previous `full_pipeline` to include the `num_pipeline` and `cat_pipeline`\n",
    "full_pipeline = ColumnTransformer([\n",
    "  ('drop_columns', 'drop', drop_columns),\n",
    "  ('num', num_pipeline, num_features),\n",
    "  ('cat', cat_pipeline, cat_features)\n",
    "])"
   ]
  },
  {
   "cell_type": "markdown",
   "metadata": {},
   "source": [
    "### Handling Categorical Features\n",
    "As we've mentioned before, we deal with categorical features in 2 ways:\n",
    "1. Ordinal Encoding - for Ordinal features - features that have a natural order, or ranking. (like `pclass` for example)\n",
    "2. One-Hot Encoding - for Nominal features - features that don't have a particular order, or ranking. (like `sex` for example)\n",
    "\n",
    "> **Interesting Thought 🧠🧐**: Could the point of passenger embarkation have an effect on their chances of survival? How you answer this question will determine how you encode this feature.\n",
    "> Passengers boarded the Titanic in 3 different ports: Southampton, England,  then Cherbourg, France, and Finally Queenstown, Ireland.\n",
    "> - If you think that the point of embarkation has no effect on the chances of survival, then this piece of information is a nominal data, then you can use One-Hot Encoding.\n",
    "> - If you think that having boarded the Titanic earlier, or later, has an effect on the chances of survival, For example, having boarded early, passengers may have gotten better at getting around the ship and know faster paths to the lifeboats, then this piece of information is an ordinal data, then you can use Ordinal Encoding.\n",
    "> - If you think that passengers at different points of embarkation were given different information, and given better training at the different ports (so it's not the order that matter but rather the location itself), then this would be a nominal data, then you can use One-Hot Encoding.\n",
    "\n",
    "We will need to modify the pipeline to handle the different categorical data differently."
   ]
  },
  {
   "cell_type": "code",
   "execution_count": 110,
   "metadata": {},
   "outputs": [],
   "source": [
    "num_features = ['age', 'sibsp', 'parch', 'fare']\n",
    "cat_features = ['pclass', 'sex', 'embarked']\n",
    "ordinal_cat_features = ['pclass']\n",
    "nominal_cat_features = [ 'sex', 'embarked']\n",
    "\n",
    "num_pipeline = Pipeline([\n",
    "  ('imputer', SimpleImputer(strategy='median')),\n",
    "  ('scale', StandardScaler())\n",
    "])\n",
    "\n",
    "ordinal_cat_pipeline = Pipeline([\n",
    "  ('imputer', SimpleImputer(strategy='most_frequent')),\n",
    "  ('encode', OrdinalEncoder())\n",
    "])\n",
    "\n",
    "nominal_cat_pipeline = Pipeline([\n",
    "  ('imputer', SimpleImputer(strategy='most_frequent')),\n",
    "  ('encode', OneHotEncoder())\n",
    "])\n",
    "\n",
    "# modified the previous `full_pipeline` to include the `num_pipeline` and `cat_pipeline`\n",
    "full_pipeline = ColumnTransformer([\n",
    "  ('drop_columns', 'drop', drop_columns),\n",
    "  ('num', num_pipeline, num_features),\n",
    "  ('ordinal_cat', ordinal_cat_pipeline, ordinal_cat_features),\n",
    "  ('nominal_cat', nominal_cat_pipeline, nominal_cat_features)\n",
    "])"
   ]
  },
  {
   "cell_type": "markdown",
   "metadata": {},
   "source": [
    "Let's apply the transformation and conversion cell again, and see the result."
   ]
  },
  {
   "cell_type": "code",
   "execution_count": 111,
   "metadata": {},
   "outputs": [
    {
     "data": {
      "text/plain": [
       "['age',\n",
       " 'sibsp',\n",
       " 'parch',\n",
       " 'fare',\n",
       " 'pclass',\n",
       " 'sex_female',\n",
       " 'sex_male',\n",
       " 'embarked_C',\n",
       " 'embarked_Q',\n",
       " 'embarked_S']"
      ]
     },
     "metadata": {},
     "output_type": "display_data"
    },
    {
     "data": {
      "text/html": [
       "<div>\n",
       "<style scoped>\n",
       "    .dataframe tbody tr th:only-of-type {\n",
       "        vertical-align: middle;\n",
       "    }\n",
       "\n",
       "    .dataframe tbody tr th {\n",
       "        vertical-align: top;\n",
       "    }\n",
       "\n",
       "    .dataframe thead th {\n",
       "        text-align: right;\n",
       "    }\n",
       "</style>\n",
       "<table border=\"1\" class=\"dataframe\">\n",
       "  <thead>\n",
       "    <tr style=\"text-align: right;\">\n",
       "      <th></th>\n",
       "      <th>age</th>\n",
       "      <th>sibsp</th>\n",
       "      <th>parch</th>\n",
       "      <th>fare</th>\n",
       "      <th>pclass</th>\n",
       "      <th>sex_female</th>\n",
       "      <th>sex_male</th>\n",
       "      <th>embarked_C</th>\n",
       "      <th>embarked_Q</th>\n",
       "      <th>embarked_S</th>\n",
       "    </tr>\n",
       "  </thead>\n",
       "  <tbody>\n",
       "    <tr>\n",
       "      <th>801</th>\n",
       "      <td>-0.106890</td>\n",
       "      <td>-0.469588</td>\n",
       "      <td>-0.441078</td>\n",
       "      <td>-0.486942</td>\n",
       "      <td>2.0</td>\n",
       "      <td>0.0</td>\n",
       "      <td>1.0</td>\n",
       "      <td>0.0</td>\n",
       "      <td>1.0</td>\n",
       "      <td>0.0</td>\n",
       "    </tr>\n",
       "    <tr>\n",
       "      <th>361</th>\n",
       "      <td>-0.578548</td>\n",
       "      <td>0.481396</td>\n",
       "      <td>0.728058</td>\n",
       "      <td>-0.063742</td>\n",
       "      <td>1.0</td>\n",
       "      <td>1.0</td>\n",
       "      <td>0.0</td>\n",
       "      <td>0.0</td>\n",
       "      <td>0.0</td>\n",
       "      <td>1.0</td>\n",
       "    </tr>\n",
       "    <tr>\n",
       "      <th>440</th>\n",
       "      <td>1.465301</td>\n",
       "      <td>0.481396</td>\n",
       "      <td>1.897193</td>\n",
       "      <td>0.653210</td>\n",
       "      <td>1.0</td>\n",
       "      <td>1.0</td>\n",
       "      <td>0.0</td>\n",
       "      <td>0.0</td>\n",
       "      <td>0.0</td>\n",
       "      <td>1.0</td>\n",
       "    </tr>\n",
       "    <tr>\n",
       "      <th>523</th>\n",
       "      <td>-0.578548</td>\n",
       "      <td>-0.469588</td>\n",
       "      <td>-0.441078</td>\n",
       "      <td>-0.432175</td>\n",
       "      <td>1.0</td>\n",
       "      <td>0.0</td>\n",
       "      <td>1.0</td>\n",
       "      <td>0.0</td>\n",
       "      <td>0.0</td>\n",
       "      <td>1.0</td>\n",
       "    </tr>\n",
       "    <tr>\n",
       "      <th>1158</th>\n",
       "      <td>0.915034</td>\n",
       "      <td>-0.469588</td>\n",
       "      <td>1.897193</td>\n",
       "      <td>-0.238748</td>\n",
       "      <td>2.0</td>\n",
       "      <td>1.0</td>\n",
       "      <td>0.0</td>\n",
       "      <td>0.0</td>\n",
       "      <td>0.0</td>\n",
       "      <td>1.0</td>\n",
       "    </tr>\n",
       "  </tbody>\n",
       "</table>\n",
       "</div>"
      ],
      "text/plain": [
       "           age     sibsp     parch      fare  pclass  sex_female  sex_male  \\\n",
       "801  -0.106890 -0.469588 -0.441078 -0.486942     2.0         0.0       1.0   \n",
       "361  -0.578548  0.481396  0.728058 -0.063742     1.0         1.0       0.0   \n",
       "440   1.465301  0.481396  1.897193  0.653210     1.0         1.0       0.0   \n",
       "523  -0.578548 -0.469588 -0.441078 -0.432175     1.0         0.0       1.0   \n",
       "1158  0.915034 -0.469588  1.897193 -0.238748     2.0         1.0       0.0   \n",
       "\n",
       "      embarked_C  embarked_Q  embarked_S  \n",
       "801          0.0         1.0         0.0  \n",
       "361          0.0         0.0         1.0  \n",
       "440          0.0         0.0         1.0  \n",
       "523          0.0         0.0         1.0  \n",
       "1158         0.0         0.0         1.0  "
      ]
     },
     "execution_count": 111,
     "metadata": {},
     "output_type": "execute_result"
    }
   ],
   "source": [
    "# Apply the Transformation\n",
    "transformed_train_set = full_pipeline.fit_transform(titanic_X)\n",
    "\n",
    "# Get the new column names after the new transformations\n",
    "column_names = [ \n",
    "  feature\n",
    "    .replace('num__', '')\n",
    "    .replace('cat__', '') \n",
    "    .replace('ordinal_', '') \n",
    "    .replace('nominal_', '') \n",
    "  for feature in full_pipeline.get_feature_names_out()\n",
    "]\n",
    "display(column_names)\n",
    "\n",
    "# Transform the numpy n-dimensional array into a pandas dataframe\n",
    "transformed_train_set = pd.DataFrame(transformed_train_set, columns=column_names, index=titanic_X.index)\n",
    "transformed_train_set.head()"
   ]
  },
  {
   "cell_type": "markdown",
   "metadata": {},
   "source": [
    "One thing we should note is that the `sex_female` and `sex_male` columns are mutually exclusive. only one of them can be `1` at a time. This is called a **Dummy Variable Trap**. We can drop one of the columns to avoid this trap."
   ]
  },
  {
   "cell_type": "code",
   "execution_count": 112,
   "metadata": {},
   "outputs": [
    {
     "data": {
      "text/html": [
       "<div>\n",
       "<style scoped>\n",
       "    .dataframe tbody tr th:only-of-type {\n",
       "        vertical-align: middle;\n",
       "    }\n",
       "\n",
       "    .dataframe tbody tr th {\n",
       "        vertical-align: top;\n",
       "    }\n",
       "\n",
       "    .dataframe thead th {\n",
       "        text-align: right;\n",
       "    }\n",
       "</style>\n",
       "<table border=\"1\" class=\"dataframe\">\n",
       "  <thead>\n",
       "    <tr style=\"text-align: right;\">\n",
       "      <th></th>\n",
       "      <th>age</th>\n",
       "      <th>sibsp</th>\n",
       "      <th>parch</th>\n",
       "      <th>fare</th>\n",
       "      <th>pclass</th>\n",
       "      <th>is_male</th>\n",
       "      <th>embarked_C</th>\n",
       "      <th>embarked_Q</th>\n",
       "      <th>embarked_S</th>\n",
       "    </tr>\n",
       "  </thead>\n",
       "  <tbody>\n",
       "    <tr>\n",
       "      <th>801</th>\n",
       "      <td>-0.106890</td>\n",
       "      <td>-0.469588</td>\n",
       "      <td>-0.441078</td>\n",
       "      <td>-0.486942</td>\n",
       "      <td>2.0</td>\n",
       "      <td>1.0</td>\n",
       "      <td>0.0</td>\n",
       "      <td>1.0</td>\n",
       "      <td>0.0</td>\n",
       "    </tr>\n",
       "    <tr>\n",
       "      <th>361</th>\n",
       "      <td>-0.578548</td>\n",
       "      <td>0.481396</td>\n",
       "      <td>0.728058</td>\n",
       "      <td>-0.063742</td>\n",
       "      <td>1.0</td>\n",
       "      <td>0.0</td>\n",
       "      <td>0.0</td>\n",
       "      <td>0.0</td>\n",
       "      <td>1.0</td>\n",
       "    </tr>\n",
       "    <tr>\n",
       "      <th>440</th>\n",
       "      <td>1.465301</td>\n",
       "      <td>0.481396</td>\n",
       "      <td>1.897193</td>\n",
       "      <td>0.653210</td>\n",
       "      <td>1.0</td>\n",
       "      <td>0.0</td>\n",
       "      <td>0.0</td>\n",
       "      <td>0.0</td>\n",
       "      <td>1.0</td>\n",
       "    </tr>\n",
       "    <tr>\n",
       "      <th>523</th>\n",
       "      <td>-0.578548</td>\n",
       "      <td>-0.469588</td>\n",
       "      <td>-0.441078</td>\n",
       "      <td>-0.432175</td>\n",
       "      <td>1.0</td>\n",
       "      <td>1.0</td>\n",
       "      <td>0.0</td>\n",
       "      <td>0.0</td>\n",
       "      <td>1.0</td>\n",
       "    </tr>\n",
       "    <tr>\n",
       "      <th>1158</th>\n",
       "      <td>0.915034</td>\n",
       "      <td>-0.469588</td>\n",
       "      <td>1.897193</td>\n",
       "      <td>-0.238748</td>\n",
       "      <td>2.0</td>\n",
       "      <td>0.0</td>\n",
       "      <td>0.0</td>\n",
       "      <td>0.0</td>\n",
       "      <td>1.0</td>\n",
       "    </tr>\n",
       "  </tbody>\n",
       "</table>\n",
       "</div>"
      ],
      "text/plain": [
       "           age     sibsp     parch      fare  pclass  is_male  embarked_C  \\\n",
       "801  -0.106890 -0.469588 -0.441078 -0.486942     2.0      1.0         0.0   \n",
       "361  -0.578548  0.481396  0.728058 -0.063742     1.0      0.0         0.0   \n",
       "440   1.465301  0.481396  1.897193  0.653210     1.0      0.0         0.0   \n",
       "523  -0.578548 -0.469588 -0.441078 -0.432175     1.0      1.0         0.0   \n",
       "1158  0.915034 -0.469588  1.897193 -0.238748     2.0      0.0         0.0   \n",
       "\n",
       "      embarked_Q  embarked_S  \n",
       "801          1.0         0.0  \n",
       "361          0.0         1.0  \n",
       "440          0.0         1.0  \n",
       "523          0.0         1.0  \n",
       "1158         0.0         1.0  "
      ]
     },
     "execution_count": 112,
     "metadata": {},
     "output_type": "execute_result"
    }
   ],
   "source": [
    "clean_titanic_X = transformed_train_set.drop('sex_female', axis=1).rename(columns={ 'sex_male': 'is_male' })\n",
    "clean_titanic_X.head()"
   ]
  },
  {
   "cell_type": "markdown",
   "metadata": {},
   "source": [
    "> I couldn't do the above un the pipeline. Not sure if it's possible."
   ]
  },
  {
   "cell_type": "markdown",
   "metadata": {},
   "source": [
    "at this point, we have a clean dataset that we can use to train our model. Remember, the machine learning model development process is an iterative one. We can also come back to this step and add more transformations. For example, we can add a new transformation to handle outliers, we can introduce new features, or we can drop features that we think are not useful."
   ]
  },
  {
   "cell_type": "code",
   "execution_count": 113,
   "metadata": {},
   "outputs": [
    {
     "data": {
      "text/plain": [
       "(1047, 9)"
      ]
     },
     "metadata": {},
     "output_type": "display_data"
    },
    {
     "data": {
      "text/plain": [
       "(1047,)"
      ]
     },
     "metadata": {},
     "output_type": "display_data"
    }
   ],
   "source": [
    "display(clean_titanic_X.shape)\n",
    "display(titanic_y.shape)"
   ]
  },
  {
   "cell_type": "markdown",
   "metadata": {},
   "source": [
    "__________________________"
   ]
  },
  {
   "cell_type": "markdown",
   "metadata": {},
   "source": [
    "## Analyze\n",
    "At this step, we'll work on developing multiple models, and then select the best one. We'll use the `clean_titanic_X` ro train the model, and do some initial evaluation of the model accuracy and performance. Once we're satisfied with the results we're getting, we'll the test set to evaluate the model and ensure that's it's not overfitting, or underfitting.\n",
    "\n",
    "![Model Evaluation](./assets/evaluate-model.webp)"
   ]
  },
  {
   "cell_type": "markdown",
   "metadata": {},
   "source": [
    "One Approach I've seen in classification problems, is to use a *Dummy Classifier* as a baseline. This is a classifier that makes predictions without considering the input. The predictions can be random, based on the most frequent class in the dataset, ... etc.\n",
    "\n",
    "[📜 Learn more: Dummy Classifier](https://scikit-learn.org/stable/modules/generated/sklearn.dummy.DummyClassifier.html)\n",
    "\n",
    "### Dummy Classifier\n",
    "This is a good baseline to compare our model to. If our model is better than the dummy classifier, then we know that we're on the right track.\n",
    "\n",
    "Let's start with that."
   ]
  },
  {
   "cell_type": "code",
   "execution_count": 114,
   "metadata": {},
   "outputs": [
    {
     "data": {
      "text/plain": [
       "0.5071633237822349"
      ]
     },
     "execution_count": 114,
     "metadata": {},
     "output_type": "execute_result"
    }
   ],
   "source": [
    "# imported DummyClassifier and the metrics packages (first cell)\n",
    "dummy_classifier = DummyClassifier(strategy='stratified')\n",
    "dummy_classifier.fit(clean_titanic_X, titanic_y)\n",
    "dummy_classifier.score(clean_titanic_X, titanic_y) # accuracy"
   ]
  },
  {
   "cell_type": "code",
   "execution_count": 115,
   "metadata": {},
   "outputs": [
    {
     "data": {
      "text/plain": [
       "array([0, 1, 0, ..., 1, 0, 0])"
      ]
     },
     "execution_count": 115,
     "metadata": {},
     "output_type": "execute_result"
    }
   ],
   "source": [
    "dummy_classifier.predict(clean_titanic_X)"
   ]
  },
  {
   "cell_type": "markdown",
   "metadata": {},
   "source": [
    "> Try different strategies for the dummy classifier, and see how it affects the results."
   ]
  },
  {
   "cell_type": "markdown",
   "metadata": {},
   "source": [
    "Remember in previous modules, we talked about using the cross-validation technique to evaluate the model. We'll use the same technique here.\n",
    "\n",
    "[📜 Learn more: SkLearn-cross validation](https://scikit-learn.org/stable/modules/cross_validation.html)\n",
    "\n",
    "Similar to how we used the `train_test_split` function to split the data into training and test sets, we'll use the `cross_val_score` function to split the training data into training and validation sets, and then evaluate the model on each of the validation sets.\n",
    "\n",
    "[📜 Learn more: `cross_val_score` function](https://scikit-learn.org/stable/modules/generated/sklearn.model_selection.cross_val_score.html)\n",
    "\n",
    "Let's apply that to our dummy classifier. "
   ]
  },
  {
   "cell_type": "code",
   "execution_count": 116,
   "metadata": {},
   "outputs": [
    {
     "name": "stdout",
     "output_type": "stream",
     "text": [
      "Dummy Classifier  AUC: 0.495 STD: 0.04\n"
     ]
    }
   ],
   "source": [
    "scores = cross_val_score(\n",
    "  dummy_classifier, clean_titanic_X, titanic_y,\n",
    "  scoring=\"roc_auc\", cv=10)\n",
    "print(\n",
    "    f\"Dummy Classifier  AUC: {scores.mean():.3f} STD: {scores.std():.2f}\"\n",
    ")"
   ]
  },
  {
   "cell_type": "markdown",
   "metadata": {},
   "source": [
    "Similar to when we learned about linear regression, I've mentioned that we use the mean squared errors to calculate the RMSE, the model's effectiveness, in classification problems, we use the (Area Under Curve) AUC to calculate the ROC AUC.\n",
    "\n",
    "AUC is a good metric to use for classification problems. It's a measure of how well the model can distinguish between the positive and negative classes. The higher the AUC, the better the model is at distinguishing between the positive and negative classes.\n",
    "\n",
    "- [📜 Learn more about this here: Understanding AUC - ROC Curve](https://towardsdatascience.com/understanding-auc-roc-curve-68b2303cc9c5)\n",
    "- [📜 Documentation](https://scikit-learn.org/stable/modules/generated/sklearn.metrics.roc_auc_score.html)"
   ]
  },
  {
   "cell_type": "markdown",
   "metadata": {},
   "source": [
    "### Logistic Classifier\n"
   ]
  },
  {
   "cell_type": "code",
   "execution_count": 117,
   "metadata": {},
   "outputs": [
    {
     "data": {
      "text/html": [
       "<style>#sk-container-id-3 {color: black;background-color: white;}#sk-container-id-3 pre{padding: 0;}#sk-container-id-3 div.sk-toggleable {background-color: white;}#sk-container-id-3 label.sk-toggleable__label {cursor: pointer;display: block;width: 100%;margin-bottom: 0;padding: 0.3em;box-sizing: border-box;text-align: center;}#sk-container-id-3 label.sk-toggleable__label-arrow:before {content: \"▸\";float: left;margin-right: 0.25em;color: #696969;}#sk-container-id-3 label.sk-toggleable__label-arrow:hover:before {color: black;}#sk-container-id-3 div.sk-estimator:hover label.sk-toggleable__label-arrow:before {color: black;}#sk-container-id-3 div.sk-toggleable__content {max-height: 0;max-width: 0;overflow: hidden;text-align: left;background-color: #f0f8ff;}#sk-container-id-3 div.sk-toggleable__content pre {margin: 0.2em;color: black;border-radius: 0.25em;background-color: #f0f8ff;}#sk-container-id-3 input.sk-toggleable__control:checked~div.sk-toggleable__content {max-height: 200px;max-width: 100%;overflow: auto;}#sk-container-id-3 input.sk-toggleable__control:checked~label.sk-toggleable__label-arrow:before {content: \"▾\";}#sk-container-id-3 div.sk-estimator input.sk-toggleable__control:checked~label.sk-toggleable__label {background-color: #d4ebff;}#sk-container-id-3 div.sk-label input.sk-toggleable__control:checked~label.sk-toggleable__label {background-color: #d4ebff;}#sk-container-id-3 input.sk-hidden--visually {border: 0;clip: rect(1px 1px 1px 1px);clip: rect(1px, 1px, 1px, 1px);height: 1px;margin: -1px;overflow: hidden;padding: 0;position: absolute;width: 1px;}#sk-container-id-3 div.sk-estimator {font-family: monospace;background-color: #f0f8ff;border: 1px dotted black;border-radius: 0.25em;box-sizing: border-box;margin-bottom: 0.5em;}#sk-container-id-3 div.sk-estimator:hover {background-color: #d4ebff;}#sk-container-id-3 div.sk-parallel-item::after {content: \"\";width: 100%;border-bottom: 1px solid gray;flex-grow: 1;}#sk-container-id-3 div.sk-label:hover label.sk-toggleable__label {background-color: #d4ebff;}#sk-container-id-3 div.sk-serial::before {content: \"\";position: absolute;border-left: 1px solid gray;box-sizing: border-box;top: 0;bottom: 0;left: 50%;z-index: 0;}#sk-container-id-3 div.sk-serial {display: flex;flex-direction: column;align-items: center;background-color: white;padding-right: 0.2em;padding-left: 0.2em;position: relative;}#sk-container-id-3 div.sk-item {position: relative;z-index: 1;}#sk-container-id-3 div.sk-parallel {display: flex;align-items: stretch;justify-content: center;background-color: white;position: relative;}#sk-container-id-3 div.sk-item::before, #sk-container-id-3 div.sk-parallel-item::before {content: \"\";position: absolute;border-left: 1px solid gray;box-sizing: border-box;top: 0;bottom: 0;left: 50%;z-index: -1;}#sk-container-id-3 div.sk-parallel-item {display: flex;flex-direction: column;z-index: 1;position: relative;background-color: white;}#sk-container-id-3 div.sk-parallel-item:first-child::after {align-self: flex-end;width: 50%;}#sk-container-id-3 div.sk-parallel-item:last-child::after {align-self: flex-start;width: 50%;}#sk-container-id-3 div.sk-parallel-item:only-child::after {width: 0;}#sk-container-id-3 div.sk-dashed-wrapped {border: 1px dashed gray;margin: 0 0.4em 0.5em 0.4em;box-sizing: border-box;padding-bottom: 0.4em;background-color: white;}#sk-container-id-3 div.sk-label label {font-family: monospace;font-weight: bold;display: inline-block;line-height: 1.2em;}#sk-container-id-3 div.sk-label-container {text-align: center;}#sk-container-id-3 div.sk-container {/* jupyter's `normalize.less` sets `[hidden] { display: none; }` but bootstrap.min.css set `[hidden] { display: none !important; }` so we also need the `!important` here to be able to override the default hidden behavior on the sphinx rendered scikit-learn.org. See: https://github.com/scikit-learn/scikit-learn/issues/21755 */display: inline-block !important;position: relative;}#sk-container-id-3 div.sk-text-repr-fallback {display: none;}</style><div id=\"sk-container-id-3\" class=\"sk-top-container\"><div class=\"sk-text-repr-fallback\"><pre>LogisticRegression()</pre><b>In a Jupyter environment, please rerun this cell to show the HTML representation or trust the notebook. <br />On GitHub, the HTML representation is unable to render, please try loading this page with nbviewer.org.</b></div><div class=\"sk-container\" hidden><div class=\"sk-item\"><div class=\"sk-estimator sk-toggleable\"><input class=\"sk-toggleable__control sk-hidden--visually\" id=\"sk-estimator-id-3\" type=\"checkbox\" checked><label for=\"sk-estimator-id-3\" class=\"sk-toggleable__label sk-toggleable__label-arrow\">LogisticRegression</label><div class=\"sk-toggleable__content\"><pre>LogisticRegression()</pre></div></div></div></div></div>"
      ],
      "text/plain": [
       "LogisticRegression()"
      ]
     },
     "execution_count": 117,
     "metadata": {},
     "output_type": "execute_result"
    }
   ],
   "source": [
    "logistic_classifier = LogisticRegression()\n",
    "logistic_classifier.fit(clean_titanic_X, titanic_y)"
   ]
  },
  {
   "cell_type": "code",
   "execution_count": 118,
   "metadata": {},
   "outputs": [
    {
     "name": "stdout",
     "output_type": "stream",
     "text": [
      "Logistic Classifier  AUC: 0.848 STD: 0.05\n"
     ]
    }
   ],
   "source": [
    "scores = cross_val_score(\n",
    "  logistic_classifier, clean_titanic_X, titanic_y,\n",
    "  scoring=\"roc_auc\", cv=10)\n",
    "print(\n",
    "    f\"Logistic Classifier  AUC: {scores.mean():.3f} STD: {scores.std():.2f}\"\n",
    ")"
   ]
  },
  {
   "cell_type": "markdown",
   "metadata": {},
   "source": [
    "For the `cross_val_score` funciton, the scoring is selected such that the higher the score, the better the model is. So, we'll use the `roc_auc_score` function to calculate the AUC score.\n",
    "\n",
    "From the above we see that logisitic regression is better than the dummy classifier. (higher AUC value).\n",
    "\n",
    "Now let's try to be a bit more efficient, and test out multiple models at once. The process is the same for all models, we fit, ane use the `cross_val_score` function to evaluate the model.\n",
    "\n",
    "We'll test the following: \n",
    "- DummyClassifier,\n",
    "- LogisticRegression,\n",
    "- DecisionTreeClassifier,\n",
    "- KNeighborsClassifier,\n",
    "- GaussianNB,\n",
    "- SVC,\n",
    "- RandomForestClassifier,\n",
    "- xgboost.XGBClassifier,\n",
    "\n",
    "The following will run the models, without any hyperparameter tuning (default/out-of-the-box configurations)."
   ]
  },
  {
   "cell_type": "code",
   "execution_count": 119,
   "metadata": {},
   "outputs": [
    {
     "name": "stdout",
     "output_type": "stream",
     "text": [
      "DummyClassifier         AUC: 0.500 STD: 0.00\n",
      "LogisticRegression      AUC: 0.849 STD: 0.03\n",
      "DecisionTreeClassifier  AUC: 0.750 STD: 0.04\n",
      "KNeighborsClassifier    AUC: 0.823 STD: 0.04\n",
      "GaussianNB              AUC: 0.814 STD: 0.04\n",
      "SVC                     AUC: 0.845 STD: 0.03\n",
      "RandomForestClassifier  AUC: 0.846 STD: 0.04\n"
     ]
    }
   ],
   "source": [
    "for model in [\n",
    "    DummyClassifier,\n",
    "    LogisticRegression,\n",
    "    DecisionTreeClassifier,\n",
    "    KNeighborsClassifier,\n",
    "    GaussianNB,\n",
    "    SVC,\n",
    "    RandomForestClassifier,\n",
    "]:\n",
    "    classifier_model = model()\n",
    "    # defining the kfolds, will ensure that all models will be trained with the same data\n",
    "    kfold = KFold(\n",
    "        n_splits=10, random_state=42, shuffle=True\n",
    "    )\n",
    "    scores = cross_val_score(\n",
    "        classifier_model,\n",
    "        clean_titanic_X, \n",
    "        titanic_y, \n",
    "        scoring=\"roc_auc\", cv=kfold\n",
    "    )\n",
    "    print(\n",
    "    f\"{model.__name__:22}  AUC: {scores.mean():.3f} STD: {scores.std():.2f}\"\n",
    ")"
   ]
  },
  {
   "cell_type": "markdown",
   "metadata": {},
   "source": [
    "Now we've mentioned that a good model would be the one that has a high AUC score, but here I also want to add that we may go with an algorithm that has a slightly smaller score but tighter standard deviation. This means that the model is more consistent, and less likely to overfit.\n",
    "\n",
    "from the results above, looks like the Logistic Regression, SVC and RandomForestClassifier are the best models. Let's evaluate them using the test set.\n",
    "\n",
    "**Remember**: our baseline for choosing the best model was the dummy classifier, and the AUC scores.\n",
    "\n",
    "> **🦉 Note**: Understanding the different hyperparameters of each model is important. However it's well-outside the scope of this course. However, you can always start with the sklearn documentation for each model to get an idea of the different hyperparameters and their usages."
   ]
  },
  {
   "cell_type": "code",
   "execution_count": 120,
   "metadata": {},
   "outputs": [
    {
     "name": "stdout",
     "output_type": "stream",
     "text": [
      "Logistic Classifier  AUC: 0.848 STD: 0.05\n"
     ]
    }
   ],
   "source": [
    "# Bringing back the logistic classifier\n",
    "logistic_classifier = LogisticRegression()\n",
    "logistic_classifier.fit(clean_titanic_X, titanic_y)\n",
    "\n",
    "scores = cross_val_score(\n",
    "  logistic_classifier, clean_titanic_X, titanic_y,\n",
    "  scoring=\"roc_auc\", cv=10)\n",
    "print(\n",
    "    f\"Logistic Classifier  AUC: {scores.mean():.3f} STD: {scores.std():.2f}\"\n",
    ")"
   ]
  },
  {
   "cell_type": "markdown",
   "metadata": {},
   "source": [
    "In addition to the AUC score, there are other metrics that we can use to evaluate a model.\n",
    "\n",
    "\n",
    "The following resource explains most of those metrics.\n",
    "- [📜 Learn more about this here: Understanding Classification Metrics in Sklearn](https://towardsdatascience.com/understanding-classification-metrics-in-scikit-learn-in-python-3bc336865019)\n",
    "\n",
    "I will show:\n",
    "- `.score` method,\n",
    "  - this returns the mean accuracy of the given X, and y.(prediction accuracy).\n",
    "- `precision_score`\n",
    "  - this returns the ration of the true positives to the sum of the true positives and false positives. $\\frac{tp}{(tp+fp)}$\n",
    "- `confusion_matrix`,\n",
    "  - this returns the confusion matrix which is a table that shows the number of true positives, true negatives, false positives, and false negatives.\n",
    "\n"
   ]
  },
  {
   "cell_type": "code",
   "execution_count": 121,
   "metadata": {},
   "outputs": [
    {
     "data": {
      "text/plain": [
       "0.7965616045845272"
      ]
     },
     "execution_count": 121,
     "metadata": {},
     "output_type": "execute_result"
    }
   ],
   "source": [
    "# `.score` on training data\n",
    "logistic_classifier.score(clean_titanic_X, titanic_y)"
   ]
  },
  {
   "cell_type": "code",
   "execution_count": 122,
   "metadata": {},
   "outputs": [
    {
     "data": {
      "text/plain": [
       "0.7493333333333333"
      ]
     },
     "execution_count": 122,
     "metadata": {},
     "output_type": "execute_result"
    }
   ],
   "source": [
    "# `precision_score` on training data\n",
    "metrics.precision_score(titanic_y, logistic_classifier.predict(clean_titanic_X))"
   ]
  },
  {
   "cell_type": "code",
   "execution_count": 123,
   "metadata": {},
   "outputs": [
    {
     "data": {
      "text/plain": [
       "array([[553,  94],\n",
       "       [119, 281]])"
      ]
     },
     "execution_count": 123,
     "metadata": {},
     "output_type": "execute_result"
    }
   ],
   "source": [
    "# Confusion Matrix\n",
    "metrics.confusion_matrix(titanic_y, logistic_classifier.predict(clean_titanic_X))"
   ]
  },
  {
   "cell_type": "code",
   "execution_count": 124,
   "metadata": {},
   "outputs": [
    {
     "data": {
      "image/png": "[encoded data removed]",
      "text/plain": [
       "<Figure size 640x480 with 1 Axes>"
      ]
     },
     "metadata": {},
     "output_type": "display_data"
    }
   ],
   "source": [
    "# plotting the confusion matrix\n",
    "## the metrics packages has a `plot_confusion_matrix` function\n",
    "metrics.ConfusionMatrixDisplay.from_estimator(\n",
    "  estimator=logistic_classifier,\n",
    "  X=clean_titanic_X, y=titanic_y,\n",
    "  display_labels=['Died', 'Survived'],\n",
    "  cmap=\"Blues\", colorbar=False\n",
    ")\n",
    "plt.show()"
   ]
  },
  {
   "cell_type": "markdown",
   "metadata": {},
   "source": [
    "We can attribute the inaccuracy of the model to either that model is not a good fit for the data (underfitting), or that we don't have enough data to train the model.\n",
    "\n",
    "For this particular problem, those scores can be considered good enough. However, we can still improve the model by tuning the hyperparameters.\n",
    "\n",
    "Looking at the documentation for the `LogisticRegression` model, we can see that there are a lot of hyperparameters that we can tune. [📜 LogisticRegression](https://scikit-learn.org/stable/modules/generated/sklearn.linear_model.LogisticRegression.html#sklearn.linear_model.LogisticRegression.score). finding the best combination of the matrix that would get us the best outcome can be a very tedious process. especially with this number of parameters. *However,* We can use the `GridSearchCV` function to find the best combination of hyperparameters.\n",
    "\n",
    "[📜 Learn more about this here](https://scikit-learn.org/stable/modules/generated/sklearn.model_selection.GridSearchCV.html)\n"
   ]
  },
  {
   "cell_type": "code",
   "execution_count": 125,
   "metadata": {},
   "outputs": [
    {
     "name": "stdout",
     "output_type": "stream",
     "text": [
      "Best Score: 0.8477857036374479\n",
      "Best Params: {'C': 0.1, 'penalty': 'l2', 'solver': 'liblinear'}\n"
     ]
    }
   ],
   "source": [
    "# first we define the different options for each of the hyperparameters\n",
    "param_grid = {\n",
    "  'penalty': ['l2'],\n",
    "  'C': [ 100, 10, 1, 0.1, 0.01, 0.001],\n",
    "  'solver': ['liblinear', 'lbfgs', 'newton-cg']\n",
    "}\n",
    "\n",
    "# then we define the grid search\n",
    "grid_search = GridSearchCV(\n",
    "  estimator=LogisticRegression(),\n",
    "  param_grid=param_grid,\n",
    "  n_jobs=-1,\n",
    "  scoring='roc_auc',\n",
    ").fit(clean_titanic_X, titanic_y)\n",
    "print(f\"Best Score: {grid_search.best_score_}\")\n",
    "print(f\"Best Params: {grid_search.best_params_}\")"
   ]
  },
  {
   "cell_type": "markdown",
   "metadata": {},
   "source": [
    "Looks like we were able to find a better combination of hyperparameters.\n",
    "\n",
    "if we're curious to see the results of the other combinations, we can do the following:"
   ]
  },
  {
   "cell_type": "code",
   "execution_count": 126,
   "metadata": {},
   "outputs": [
    {
     "name": "stdout",
     "output_type": "stream",
     "text": [
      "0.847426 (0.025140) with: {'C': 100, 'penalty': 'l2', 'solver': 'liblinear'}\n",
      "0.847464 (0.025137) with: {'C': 100, 'penalty': 'l2', 'solver': 'lbfgs'}\n",
      "0.847464 (0.025137) with: {'C': 100, 'penalty': 'l2', 'solver': 'newton-cg'}\n",
      "0.847387 (0.025229) with: {'C': 10, 'penalty': 'l2', 'solver': 'liblinear'}\n",
      "0.847368 (0.025135) with: {'C': 10, 'penalty': 'l2', 'solver': 'lbfgs'}\n",
      "0.847368 (0.025135) with: {'C': 10, 'penalty': 'l2', 'solver': 'newton-cg'}\n",
      "0.847330 (0.025299) with: {'C': 1, 'penalty': 'l2', 'solver': 'liblinear'}\n",
      "0.847175 (0.025162) with: {'C': 1, 'penalty': 'l2', 'solver': 'lbfgs'}\n",
      "0.847175 (0.025162) with: {'C': 1, 'penalty': 'l2', 'solver': 'newton-cg'}\n",
      "0.847786 (0.025439) with: {'C': 0.1, 'penalty': 'l2', 'solver': 'liblinear'}\n",
      "0.846199 (0.025769) with: {'C': 0.1, 'penalty': 'l2', 'solver': 'lbfgs'}\n",
      "0.846199 (0.025769) with: {'C': 0.1, 'penalty': 'l2', 'solver': 'newton-cg'}\n",
      "0.832383 (0.029007) with: {'C': 0.01, 'penalty': 'l2', 'solver': 'liblinear'}\n",
      "0.831354 (0.028107) with: {'C': 0.01, 'penalty': 'l2', 'solver': 'lbfgs'}\n",
      "0.831354 (0.028107) with: {'C': 0.01, 'penalty': 'l2', 'solver': 'newton-cg'}\n",
      "0.793599 (0.030320) with: {'C': 0.001, 'penalty': 'l2', 'solver': 'liblinear'}\n",
      "0.797472 (0.032472) with: {'C': 0.001, 'penalty': 'l2', 'solver': 'lbfgs'}\n",
      "0.797472 (0.032472) with: {'C': 0.001, 'penalty': 'l2', 'solver': 'newton-cg'}\n"
     ]
    }
   ],
   "source": [
    "means = grid_search.cv_results_['mean_test_score']\n",
    "stds = grid_search.cv_results_['std_test_score']\n",
    "params = grid_search.cv_results_['params']\n",
    "for mean, stdev, param in zip(means, stds, params):\n",
    "    print(\"%f (%f) with: %r\" % (mean, stdev, param))"
   ]
  },
  {
   "cell_type": "markdown",
   "metadata": {},
   "source": [
    "Let's generate the confusion matrix for this new model"
   ]
  },
  {
   "cell_type": "code",
   "execution_count": 127,
   "metadata": {},
   "outputs": [
    {
     "data": {
      "image/png": "[encoded data removed]",
      "text/plain": [
       "<Figure size 640x480 with 1 Axes>"
      ]
     },
     "metadata": {},
     "output_type": "display_data"
    }
   ],
   "source": [
    "# First create the new model with the best parameters\n",
    "updated_logistic_classifier = LogisticRegression(\n",
    "  C=0.1, penalty='l2', solver='liblinear'\n",
    ")\n",
    "# Then fit the model\n",
    "updated_logistic_classifier.fit(clean_titanic_X, titanic_y)\n",
    "\n",
    "# Then plot the confusion matrix\n",
    "metrics.ConfusionMatrixDisplay.from_estimator(\n",
    "  estimator=updated_logistic_classifier,\n",
    "  X=clean_titanic_X, y=titanic_y,\n",
    "  display_labels=['Died', 'Survived'],\n",
    "  cmap=\"Blues\", colorbar=False\n",
    ")\n",
    "plt.show()"
   ]
  },
  {
   "cell_type": "markdown",
   "metadata": {},
   "source": [
    " Let's evaluate the model using the test set.\n",
    "\n",
    " **Remember**, now that we have a model, our baseline for evaluating the model are the metrics on training set, compared to the metrics on the test set."
   ]
  },
  {
   "cell_type": "code",
   "execution_count": 128,
   "metadata": {},
   "outputs": [
    {
     "data": {
      "text/html": [
       "<div>\n",
       "<style scoped>\n",
       "    .dataframe tbody tr th:only-of-type {\n",
       "        vertical-align: middle;\n",
       "    }\n",
       "\n",
       "    .dataframe tbody tr th {\n",
       "        vertical-align: top;\n",
       "    }\n",
       "\n",
       "    .dataframe thead th {\n",
       "        text-align: right;\n",
       "    }\n",
       "</style>\n",
       "<table border=\"1\" class=\"dataframe\">\n",
       "  <thead>\n",
       "    <tr style=\"text-align: right;\">\n",
       "      <th></th>\n",
       "      <th>age</th>\n",
       "      <th>sibsp</th>\n",
       "      <th>parch</th>\n",
       "      <th>fare</th>\n",
       "      <th>pclass</th>\n",
       "      <th>is_male</th>\n",
       "      <th>embarked_C</th>\n",
       "      <th>embarked_Q</th>\n",
       "      <th>embarked_S</th>\n",
       "    </tr>\n",
       "  </thead>\n",
       "  <tbody>\n",
       "    <tr>\n",
       "      <th>545</th>\n",
       "      <td>0.050329</td>\n",
       "      <td>2.383366</td>\n",
       "      <td>-0.441078</td>\n",
       "      <td>-0.223064</td>\n",
       "      <td>1.0</td>\n",
       "      <td>0.0</td>\n",
       "      <td>0.0</td>\n",
       "      <td>0.0</td>\n",
       "      <td>1.0</td>\n",
       "    </tr>\n",
       "    <tr>\n",
       "      <th>167</th>\n",
       "      <td>0.443377</td>\n",
       "      <td>0.481396</td>\n",
       "      <td>-0.441078</td>\n",
       "      <td>1.151093</td>\n",
       "      <td>0.0</td>\n",
       "      <td>0.0</td>\n",
       "      <td>0.0</td>\n",
       "      <td>0.0</td>\n",
       "      <td>1.0</td>\n",
       "    </tr>\n",
       "    <tr>\n",
       "      <th>16</th>\n",
       "      <td>-0.421329</td>\n",
       "      <td>-0.469588</td>\n",
       "      <td>0.728058</td>\n",
       "      <td>4.288171</td>\n",
       "      <td>0.0</td>\n",
       "      <td>1.0</td>\n",
       "      <td>1.0</td>\n",
       "      <td>0.0</td>\n",
       "      <td>0.0</td>\n",
       "    </tr>\n",
       "    <tr>\n",
       "      <th>110</th>\n",
       "      <td>0.050329</td>\n",
       "      <td>-0.469588</td>\n",
       "      <td>-0.441078</td>\n",
       "      <td>-0.088636</td>\n",
       "      <td>0.0</td>\n",
       "      <td>1.0</td>\n",
       "      <td>1.0</td>\n",
       "      <td>0.0</td>\n",
       "      <td>0.0</td>\n",
       "    </tr>\n",
       "    <tr>\n",
       "      <th>1094</th>\n",
       "      <td>0.128938</td>\n",
       "      <td>-0.469588</td>\n",
       "      <td>-0.441078</td>\n",
       "      <td>-0.468355</td>\n",
       "      <td>2.0</td>\n",
       "      <td>0.0</td>\n",
       "      <td>0.0</td>\n",
       "      <td>0.0</td>\n",
       "      <td>1.0</td>\n",
       "    </tr>\n",
       "  </tbody>\n",
       "</table>\n",
       "</div>"
      ],
      "text/plain": [
       "           age     sibsp     parch      fare  pclass  is_male  embarked_C  \\\n",
       "545   0.050329  2.383366 -0.441078 -0.223064     1.0      0.0         0.0   \n",
       "167   0.443377  0.481396 -0.441078  1.151093     0.0      0.0         0.0   \n",
       "16   -0.421329 -0.469588  0.728058  4.288171     0.0      1.0         1.0   \n",
       "110   0.050329 -0.469588 -0.441078 -0.088636     0.0      1.0         1.0   \n",
       "1094  0.128938 -0.469588 -0.441078 -0.468355     2.0      0.0         0.0   \n",
       "\n",
       "      embarked_Q  embarked_S  \n",
       "545          0.0         1.0  \n",
       "167          0.0         1.0  \n",
       "16           0.0         0.0  \n",
       "110          0.0         0.0  \n",
       "1094         0.0         1.0  "
      ]
     },
     "execution_count": 128,
     "metadata": {},
     "output_type": "execute_result"
    }
   ],
   "source": [
    "# EVALUATION ON TEST SET\n",
    "# First we need to transform the test set\n",
    "titanic_test_X = test_set.drop('survived', axis=1)\n",
    "titanic_test_y = test_set['survived'].copy()\n",
    "\n",
    "# Be Careful, we shouldn't call `fit` or `fit_transform` on the test set\n",
    "transformed_test_set = full_pipeline.transform(titanic_test_X)\n",
    "transformed_test_set = pd.DataFrame(transformed_test_set, columns=column_names, index=titanic_test_X.index)\n",
    "clean_titanic_test_X = transformed_test_set.drop('sex_female', axis=1).rename(columns={ 'sex_male': 'is_male' })\n",
    "\n",
    "clean_titanic_test_X.head()"
   ]
  },
  {
   "cell_type": "code",
   "execution_count": 129,
   "metadata": {},
   "outputs": [
    {
     "data": {
      "text/plain": [
       "0.7786259541984732"
      ]
     },
     "execution_count": 129,
     "metadata": {},
     "output_type": "execute_result"
    }
   ],
   "source": [
    "# `.score` on test data\n",
    "updated_logistic_classifier.score(clean_titanic_test_X, titanic_test_y)"
   ]
  },
  {
   "cell_type": "code",
   "execution_count": 130,
   "metadata": {},
   "outputs": [
    {
     "data": {
      "text/plain": [
       "0.7560975609756098"
      ]
     },
     "execution_count": 130,
     "metadata": {},
     "output_type": "execute_result"
    }
   ],
   "source": [
    "# # `precision_score` on test data\n",
    "metrics.precision_score(titanic_test_y, updated_logistic_classifier.predict(clean_titanic_test_X))"
   ]
  },
  {
   "cell_type": "code",
   "execution_count": 131,
   "metadata": {},
   "outputs": [
    {
     "data": {
      "text/plain": [
       "<sklearn.metrics._plot.confusion_matrix.ConfusionMatrixDisplay at 0x1404e2fb0>"
      ]
     },
     "execution_count": 131,
     "metadata": {},
     "output_type": "execute_result"
    },
    {
     "data": {
      "image/png": "[encoded data removed]",
      "text/plain": [
       "<Figure size 640x480 with 1 Axes>"
      ]
     },
     "metadata": {},
     "output_type": "display_data"
    }
   ],
   "source": [
    "# Then we can plot the confusion matrix\n",
    "metrics.ConfusionMatrixDisplay.from_estimator(\n",
    "  estimator=updated_logistic_classifier,\n",
    "  X=clean_titanic_test_X, y=titanic_test_y,\n",
    "  display_labels=['Died', 'Survived'],\n",
    "  cmap=\"Blues\", colorbar=False\n",
    ")"
   ]
  },
  {
   "cell_type": "code",
   "execution_count": 132,
   "metadata": {},
   "outputs": [
    {
     "data": {
      "text/plain": [
       "array([0, 1, 0])"
      ]
     },
     "execution_count": 132,
     "metadata": {},
     "output_type": "execute_result"
    }
   ],
   "source": [
    "# And of Course, if we needed to make a prediction on new data points, we can do it like this\n",
    "## here we're making predictions about 3 records at the same time\n",
    "new_data = pd.DataFrame({\n",
    "  'pclass': [1, 2, 3],\n",
    "  'name': ['John', 'Jane', 'Joe'], # doesn't matter\n",
    "  'sex': ['male', 'female', 'male'],\n",
    "  'age': [30, 25, 20],\n",
    "  'sibsp': [0, 0, 0],\n",
    "  'parch': [0, 0, 0],\n",
    "  'ticket': ['123', '456', '789'], # doesn't matter\n",
    "  'fare': [100, 50, 25],\n",
    "  'cabin': ['A', 'B', 'C'],\n",
    "  'embarked': ['S', 'C', 'Q'],\n",
    "  'boat': ['A', 'B', 'C'], # doesn't matter\n",
    "  'body': [1, 2, 3], # doesn't matter\n",
    "  'home.dest': ['London', 'Paris', 'New York'], # doesn't matter\n",
    "})\n",
    "# First we need to transform the new data\n",
    "transformed_new_data = full_pipeline.transform(new_data)\n",
    "transformed_new_data = pd.DataFrame(transformed_new_data, columns=column_names, index=new_data.index)\n",
    "clean_new_data = transformed_new_data.drop('sex_female', axis=1).rename(columns={ 'sex_male': 'is_male' })\n",
    "\n",
    "\n",
    "updated_logistic_classifier.predict(clean_new_data)"
   ]
  },
  {
   "cell_type": "code",
   "execution_count": 133,
   "metadata": {},
   "outputs": [
    {
     "data": {
      "text/plain": [
       "array([1])"
      ]
     },
     "execution_count": 133,
     "metadata": {},
     "output_type": "execute_result"
    }
   ],
   "source": [
    "# Also if we're making a predictions for only one record, we can do it like this\n",
    "new_data2 = pd.DataFrame.from_records([{\n",
    "  'pclass': 1,\n",
    "  'name': 'John', # doesn't matter\n",
    "  'sex': 'male',\n",
    "  'age': 25,\n",
    "  'sibsp': 0,\n",
    "  'parch': 0,\n",
    "  'ticket': '123', # doesn't matter\n",
    "  'fare': 100,\n",
    "  'cabin': 'A',\n",
    "  'embarked': 'C',\n",
    "  'boat': 'A', # doesn't matter; leaked data; will be dropped\n",
    "  'body': 1, # doesn't matter; leaky data ; will be dropped\n",
    "  'home.dest': 'London', # doesn't matter - will be removed\n",
    "}])\n",
    "\n",
    "# transform the new data\n",
    "transformed_new_data2 = full_pipeline.transform(new_data2)\n",
    "transformed_new_data2 = pd.DataFrame(transformed_new_data2, columns=column_names, index=new_data2.index)\n",
    "clean_new_data2 = transformed_new_data2.drop('sex_female', axis=1).rename(columns={ 'sex_male': 'is_male' })\n",
    "\n",
    "\n",
    "updated_logistic_classifier.predict(clean_new_data2)\n"
   ]
  },
  {
   "cell_type": "markdown",
   "metadata": {},
   "source": [
    "This concludes the classification exercise for one algorithm. In the assignment, you'll be asked to do the same with another dataset.\n",
    "\n",
    "I also encourage you to try the fine-tuning work on this dataset using different algorithms and see how it affects the results. (5 points of extra credit)"
   ]
  },
  {
   "cell_type": "markdown",
   "metadata": {},
   "source": [
    "## Deploy\n",
    "The last thing I want to mention is regarding the deployment of the models developed.\n",
    "\n",
    "Creating web applications or software solutions to house the model would be outside the scope of this course, but that's not the only aspect of deployment.\n",
    "\n",
    "You may have wondered how do you deploy the model when it's so dependant on the data, and what do you do when the data is millions of records. The answer is that you don't. You deploy the model separately.\n",
    "\n",
    "The model can be deployed in a variety of ways, and the most common way is to use the pickle library to save the model, and then load it in the application.\n",
    "\n",
    "[📜 Learn more about this here: Pickle](https://docs.python.org/3/library/pickle.html)\n",
    "\n"
   ]
  },
  {
   "cell_type": "code",
   "execution_count": 134,
   "metadata": {},
   "outputs": [],
   "source": [
    "# Deploying the model\n",
    "pic = pickle.dump(updated_logistic_classifier, file=open('model.pkl', 'wb'))"
   ]
  },
  {
   "cell_type": "markdown",
   "metadata": {},
   "source": [
    "At any time in the future, if you want to use the model, you can load it, and use it to make predictions."
   ]
  },
  {
   "cell_type": "code",
   "execution_count": 135,
   "metadata": {},
   "outputs": [
    {
     "data": {
      "text/plain": [
       "array([1])"
      ]
     },
     "execution_count": 135,
     "metadata": {},
     "output_type": "execute_result"
    }
   ],
   "source": [
    "#load the model \n",
    "loaded_model = pickle.load(open('model.pkl', 'rb'))\n",
    "\n",
    "loaded_model.predict(clean_new_data2)\n"
   ]
  },
  {
   "cell_type": "code",
   "execution_count": null,
   "metadata": {},
   "outputs": [],
   "source": []
  }
 ],
 "metadata": {
  "kernelspec": {
   "display_name": "Python 3.10.6 ('Sandbox-HnbTDpGS')",
   "language": "python",
   "name": "python3"
  },
  "language_info": {
   "codemirror_mode": {
    "name": "ipython",
    "version": 3
   },
   "file_extension": ".py",
   "mimetype": "text/x-python",
   "name": "python",
   "nbconvert_exporter": "python",
   "pygments_lexer": "ipython3",
   "version": "3.10.6"
  },
  "orig_nbformat": 4,
  "vscode": {
   "interpreter": {
    "hash": "af1c6585e93c23c7664674f9ced45a31a4054cdb8480387a631c4a4c3b6a5322"
   }
  }
 },
 "nbformat": 4,
 "nbformat_minor": 2
}
