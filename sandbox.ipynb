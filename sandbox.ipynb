{
 "cells": [
  {
   "cell_type": "markdown",
   "metadata": {},
   "source": [
    "## Data Types\n",
    "![Data types](https://miro.medium.com/max/1400/1*kySPZcf83qLOuaqB1vJxlg.jpeg)"
   ]
  },
  {
   "cell_type": "code",
   "execution_count": 97,
   "metadata": {},
   "outputs": [],
   "source": [
    "# Importing data\n",
    "import pandas as pd\n",
    "\n",
    "auto_mpg_df = pd.read_table('./data/auto-mpg/auto-mpg.data', sep=\"\\t\", header=None, names=(\"mpg\",\"cylinders\",\"displacement\",\"horsepower\",\"weight\",\"acceleration\",\"model_year\",\"origin\",\"car_name\"))"
   ]
  },
  {
   "cell_type": "code",
   "execution_count": 98,
   "metadata": {},
   "outputs": [
    {
     "data": {
      "text/html": [
       "<div>\n",
       "<style scoped>\n",
       "    .dataframe tbody tr th:only-of-type {\n",
       "        vertical-align: middle;\n",
       "    }\n",
       "\n",
       "    .dataframe tbody tr th {\n",
       "        vertical-align: top;\n",
       "    }\n",
       "\n",
       "    .dataframe thead th {\n",
       "        text-align: right;\n",
       "    }\n",
       "</style>\n",
       "<table border=\"1\" class=\"dataframe\">\n",
       "  <thead>\n",
       "    <tr style=\"text-align: right;\">\n",
       "      <th></th>\n",
       "      <th>mpg</th>\n",
       "      <th>cylinders</th>\n",
       "      <th>displacement</th>\n",
       "      <th>horsepower</th>\n",
       "      <th>weight</th>\n",
       "      <th>acceleration</th>\n",
       "      <th>model_year</th>\n",
       "      <th>origin</th>\n",
       "      <th>car_name</th>\n",
       "    </tr>\n",
       "  </thead>\n",
       "  <tbody>\n",
       "    <tr>\n",
       "      <th>360</th>\n",
       "      <td>34.4</td>\n",
       "      <td>4.0</td>\n",
       "      <td>98.0</td>\n",
       "      <td>65.0</td>\n",
       "      <td>2045.0</td>\n",
       "      <td>16.2</td>\n",
       "      <td>81.0</td>\n",
       "      <td>1.0</td>\n",
       "      <td>ford escort 4w</td>\n",
       "    </tr>\n",
       "    <tr>\n",
       "      <th>102</th>\n",
       "      <td>13.0</td>\n",
       "      <td>8.0</td>\n",
       "      <td>440.0</td>\n",
       "      <td>215.0</td>\n",
       "      <td>4735.0</td>\n",
       "      <td>11.0</td>\n",
       "      <td>73.0</td>\n",
       "      <td>1.0</td>\n",
       "      <td>chrysler new yorker brougham</td>\n",
       "    </tr>\n",
       "    <tr>\n",
       "      <th>209</th>\n",
       "      <td>18.5</td>\n",
       "      <td>6.0</td>\n",
       "      <td>250.0</td>\n",
       "      <td>110.0</td>\n",
       "      <td>3645.0</td>\n",
       "      <td>16.2</td>\n",
       "      <td>76.0</td>\n",
       "      <td>1.0</td>\n",
       "      <td>pontiac ventura sj</td>\n",
       "    </tr>\n",
       "    <tr>\n",
       "      <th>40</th>\n",
       "      <td>19.0</td>\n",
       "      <td>6.0</td>\n",
       "      <td>232.0</td>\n",
       "      <td>100.0</td>\n",
       "      <td>2634.0</td>\n",
       "      <td>13.0</td>\n",
       "      <td>71.0</td>\n",
       "      <td>1.0</td>\n",
       "      <td>amc gremlin</td>\n",
       "    </tr>\n",
       "    <tr>\n",
       "      <th>41</th>\n",
       "      <td>16.0</td>\n",
       "      <td>6.0</td>\n",
       "      <td>225.0</td>\n",
       "      <td>105.0</td>\n",
       "      <td>3439.0</td>\n",
       "      <td>15.5</td>\n",
       "      <td>71.0</td>\n",
       "      <td>1.0</td>\n",
       "      <td>plymouth satellite custom</td>\n",
       "    </tr>\n",
       "    <tr>\n",
       "      <th>31</th>\n",
       "      <td>10.0</td>\n",
       "      <td>8.0</td>\n",
       "      <td>360.0</td>\n",
       "      <td>215.0</td>\n",
       "      <td>4615.0</td>\n",
       "      <td>14.0</td>\n",
       "      <td>70.0</td>\n",
       "      <td>1.0</td>\n",
       "      <td>ford f250</td>\n",
       "    </tr>\n",
       "    <tr>\n",
       "      <th>219</th>\n",
       "      <td>16.5</td>\n",
       "      <td>6.0</td>\n",
       "      <td>168.0</td>\n",
       "      <td>120.0</td>\n",
       "      <td>3820.0</td>\n",
       "      <td>16.7</td>\n",
       "      <td>76.0</td>\n",
       "      <td>2.0</td>\n",
       "      <td>mercedes-benz 280s</td>\n",
       "    </tr>\n",
       "    <tr>\n",
       "      <th>387</th>\n",
       "      <td>31.0</td>\n",
       "      <td>4.0</td>\n",
       "      <td>91.0</td>\n",
       "      <td>68.0</td>\n",
       "      <td>1970.0</td>\n",
       "      <td>17.6</td>\n",
       "      <td>82.0</td>\n",
       "      <td>3.0</td>\n",
       "      <td>mazda glc custom</td>\n",
       "    </tr>\n",
       "    <tr>\n",
       "      <th>320</th>\n",
       "      <td>32.1</td>\n",
       "      <td>4.0</td>\n",
       "      <td>98.0</td>\n",
       "      <td>70.0</td>\n",
       "      <td>2120.0</td>\n",
       "      <td>15.5</td>\n",
       "      <td>80.0</td>\n",
       "      <td>1.0</td>\n",
       "      <td>chevrolet chevette</td>\n",
       "    </tr>\n",
       "    <tr>\n",
       "      <th>368</th>\n",
       "      <td>28.1</td>\n",
       "      <td>4.0</td>\n",
       "      <td>141.0</td>\n",
       "      <td>80.0</td>\n",
       "      <td>3230.0</td>\n",
       "      <td>20.4</td>\n",
       "      <td>81.0</td>\n",
       "      <td>2.0</td>\n",
       "      <td>peugeot 505s turbo diesel</td>\n",
       "    </tr>\n",
       "  </tbody>\n",
       "</table>\n",
       "</div>"
      ],
      "text/plain": [
       "      mpg  cylinders  displacement  horsepower  weight  acceleration  \\\n",
       "360  34.4        4.0          98.0        65.0  2045.0          16.2   \n",
       "102  13.0        8.0         440.0       215.0  4735.0          11.0   \n",
       "209  18.5        6.0         250.0       110.0  3645.0          16.2   \n",
       "40   19.0        6.0         232.0       100.0  2634.0          13.0   \n",
       "41   16.0        6.0         225.0       105.0  3439.0          15.5   \n",
       "31   10.0        8.0         360.0       215.0  4615.0          14.0   \n",
       "219  16.5        6.0         168.0       120.0  3820.0          16.7   \n",
       "387  31.0        4.0          91.0        68.0  1970.0          17.6   \n",
       "320  32.1        4.0          98.0        70.0  2120.0          15.5   \n",
       "368  28.1        4.0         141.0        80.0  3230.0          20.4   \n",
       "\n",
       "     model_year  origin                      car_name  \n",
       "360        81.0     1.0                ford escort 4w  \n",
       "102        73.0     1.0  chrysler new yorker brougham  \n",
       "209        76.0     1.0            pontiac ventura sj  \n",
       "40         71.0     1.0                   amc gremlin  \n",
       "41         71.0     1.0     plymouth satellite custom  \n",
       "31         70.0     1.0                     ford f250  \n",
       "219        76.0     2.0            mercedes-benz 280s  \n",
       "387        82.0     3.0              mazda glc custom  \n",
       "320        80.0     1.0            chevrolet chevette  \n",
       "368        81.0     2.0     peugeot 505s turbo diesel  "
      ]
     },
     "execution_count": 98,
     "metadata": {},
     "output_type": "execute_result"
    }
   ],
   "source": [
    "auto_mpg_df.sample(n=10)"
   ]
  },
  {
   "cell_type": "code",
   "execution_count": 99,
   "metadata": {},
   "outputs": [
    {
     "name": "stdout",
     "output_type": "stream",
     "text": [
      "<class 'pandas.core.frame.DataFrame'>\n",
      "RangeIndex: 409 entries, 0 to 408\n",
      "Data columns (total 9 columns):\n",
      " #   Column        Non-Null Count  Dtype  \n",
      "---  ------        --------------  -----  \n",
      " 0   mpg           400 non-null    float64\n",
      " 1   cylinders     409 non-null    float64\n",
      " 2   displacement  409 non-null    float64\n",
      " 3   horsepower    403 non-null    float64\n",
      " 4   weight        409 non-null    float64\n",
      " 5   acceleration  409 non-null    float64\n",
      " 6   model_year    409 non-null    float64\n",
      " 7   origin        409 non-null    float64\n",
      " 8   car_name      409 non-null    object \n",
      "dtypes: float64(8), object(1)\n",
      "memory usage: 28.9+ KB\n"
     ]
    }
   ],
   "source": [
    "auto_mpg_df.info()"
   ]
  },
  {
   "cell_type": "code",
   "execution_count": 100,
   "metadata": {},
   "outputs": [
    {
     "data": {
      "text/html": [
       "<div>\n",
       "<style scoped>\n",
       "    .dataframe tbody tr th:only-of-type {\n",
       "        vertical-align: middle;\n",
       "    }\n",
       "\n",
       "    .dataframe tbody tr th {\n",
       "        vertical-align: top;\n",
       "    }\n",
       "\n",
       "    .dataframe thead th {\n",
       "        text-align: right;\n",
       "    }\n",
       "</style>\n",
       "<table border=\"1\" class=\"dataframe\">\n",
       "  <thead>\n",
       "    <tr style=\"text-align: right;\">\n",
       "      <th></th>\n",
       "      <th>mpg</th>\n",
       "      <th>cylinders</th>\n",
       "      <th>displacement</th>\n",
       "      <th>horsepower</th>\n",
       "      <th>weight</th>\n",
       "      <th>acceleration</th>\n",
       "      <th>model_year</th>\n",
       "      <th>origin</th>\n",
       "    </tr>\n",
       "  </thead>\n",
       "  <tbody>\n",
       "    <tr>\n",
       "      <th>count</th>\n",
       "      <td>400.000000</td>\n",
       "      <td>409.000000</td>\n",
       "      <td>409.000000</td>\n",
       "      <td>403.000000</td>\n",
       "      <td>409.000000</td>\n",
       "      <td>409.000000</td>\n",
       "      <td>409.000000</td>\n",
       "      <td>409.000000</td>\n",
       "    </tr>\n",
       "    <tr>\n",
       "      <th>mean</th>\n",
       "      <td>23.482000</td>\n",
       "      <td>5.488998</td>\n",
       "      <td>195.759169</td>\n",
       "      <td>105.429280</td>\n",
       "      <td>2986.088020</td>\n",
       "      <td>15.496577</td>\n",
       "      <td>75.897311</td>\n",
       "      <td>1.564792</td>\n",
       "    </tr>\n",
       "    <tr>\n",
       "      <th>std</th>\n",
       "      <td>7.810255</td>\n",
       "      <td>1.715129</td>\n",
       "      <td>106.809049</td>\n",
       "      <td>38.959819</td>\n",
       "      <td>848.259456</td>\n",
       "      <td>2.812496</td>\n",
       "      <td>3.754633</td>\n",
       "      <td>0.796027</td>\n",
       "    </tr>\n",
       "    <tr>\n",
       "      <th>min</th>\n",
       "      <td>9.000000</td>\n",
       "      <td>3.000000</td>\n",
       "      <td>4.000000</td>\n",
       "      <td>46.000000</td>\n",
       "      <td>1613.000000</td>\n",
       "      <td>8.000000</td>\n",
       "      <td>70.000000</td>\n",
       "      <td>1.000000</td>\n",
       "    </tr>\n",
       "    <tr>\n",
       "      <th>25%</th>\n",
       "      <td>17.375000</td>\n",
       "      <td>4.000000</td>\n",
       "      <td>105.000000</td>\n",
       "      <td>76.000000</td>\n",
       "      <td>2228.000000</td>\n",
       "      <td>13.600000</td>\n",
       "      <td>73.000000</td>\n",
       "      <td>1.000000</td>\n",
       "    </tr>\n",
       "    <tr>\n",
       "      <th>50%</th>\n",
       "      <td>23.000000</td>\n",
       "      <td>4.000000</td>\n",
       "      <td>151.000000</td>\n",
       "      <td>95.000000</td>\n",
       "      <td>2833.000000</td>\n",
       "      <td>15.500000</td>\n",
       "      <td>76.000000</td>\n",
       "      <td>1.000000</td>\n",
       "    </tr>\n",
       "    <tr>\n",
       "      <th>75%</th>\n",
       "      <td>29.000000</td>\n",
       "      <td>8.000000</td>\n",
       "      <td>302.000000</td>\n",
       "      <td>130.000000</td>\n",
       "      <td>3630.000000</td>\n",
       "      <td>17.100000</td>\n",
       "      <td>79.000000</td>\n",
       "      <td>2.000000</td>\n",
       "    </tr>\n",
       "    <tr>\n",
       "      <th>max</th>\n",
       "      <td>46.600000</td>\n",
       "      <td>8.000000</td>\n",
       "      <td>502.000000</td>\n",
       "      <td>230.000000</td>\n",
       "      <td>5140.000000</td>\n",
       "      <td>24.800000</td>\n",
       "      <td>82.000000</td>\n",
       "      <td>3.000000</td>\n",
       "    </tr>\n",
       "  </tbody>\n",
       "</table>\n",
       "</div>"
      ],
      "text/plain": [
       "              mpg   cylinders  displacement  horsepower       weight  \\\n",
       "count  400.000000  409.000000    409.000000  403.000000   409.000000   \n",
       "mean    23.482000    5.488998    195.759169  105.429280  2986.088020   \n",
       "std      7.810255    1.715129    106.809049   38.959819   848.259456   \n",
       "min      9.000000    3.000000      4.000000   46.000000  1613.000000   \n",
       "25%     17.375000    4.000000    105.000000   76.000000  2228.000000   \n",
       "50%     23.000000    4.000000    151.000000   95.000000  2833.000000   \n",
       "75%     29.000000    8.000000    302.000000  130.000000  3630.000000   \n",
       "max     46.600000    8.000000    502.000000  230.000000  5140.000000   \n",
       "\n",
       "       acceleration  model_year      origin  \n",
       "count    409.000000  409.000000  409.000000  \n",
       "mean      15.496577   75.897311    1.564792  \n",
       "std        2.812496    3.754633    0.796027  \n",
       "min        8.000000   70.000000    1.000000  \n",
       "25%       13.600000   73.000000    1.000000  \n",
       "50%       15.500000   76.000000    1.000000  \n",
       "75%       17.100000   79.000000    2.000000  \n",
       "max       24.800000   82.000000    3.000000  "
      ]
     },
     "execution_count": 100,
     "metadata": {},
     "output_type": "execute_result"
    }
   ],
   "source": [
    "auto_mpg_df.describe()"
   ]
  },
  {
   "cell_type": "code",
   "execution_count": 101,
   "metadata": {},
   "outputs": [],
   "source": [
    "auto_mpg_df['origin'] = auto_mpg_df['origin'].astype(int)\n",
    "auto_mpg_df['origin'] = pd.Categorical(auto_mpg_df.origin)"
   ]
  },
  {
   "cell_type": "code",
   "execution_count": 102,
   "metadata": {},
   "outputs": [
    {
     "name": "stdout",
     "output_type": "stream",
     "text": [
      "<class 'pandas.core.frame.DataFrame'>\n",
      "RangeIndex: 409 entries, 0 to 408\n",
      "Data columns (total 9 columns):\n",
      " #   Column        Non-Null Count  Dtype   \n",
      "---  ------        --------------  -----   \n",
      " 0   mpg           400 non-null    float64 \n",
      " 1   cylinders     409 non-null    float64 \n",
      " 2   displacement  409 non-null    float64 \n",
      " 3   horsepower    403 non-null    float64 \n",
      " 4   weight        409 non-null    float64 \n",
      " 5   acceleration  409 non-null    float64 \n",
      " 6   model_year    409 non-null    float64 \n",
      " 7   origin        409 non-null    category\n",
      " 8   car_name      409 non-null    object  \n",
      "dtypes: category(1), float64(7), object(1)\n",
      "memory usage: 26.2+ KB\n"
     ]
    }
   ],
   "source": [
    "auto_mpg_df.info()"
   ]
  },
  {
   "cell_type": "code",
   "execution_count": 103,
   "metadata": {},
   "outputs": [],
   "source": [
    "auto_mpg_df['model_year'] = auto_mpg_df['model_year'] + 1900\n",
    "\n",
    "# auto_mpg_df['model_year'] = auto_mpg_df['model_year'].map(lambda x: x + 1900)\n",
    "# auto_mpg_df['model_year'] = auto_mpg_df['model_year'].apply(lambda x: x + 1900)"
   ]
  },
  {
   "cell_type": "code",
   "execution_count": 104,
   "metadata": {},
   "outputs": [
    {
     "data": {
      "text/html": [
       "<div>\n",
       "<style scoped>\n",
       "    .dataframe tbody tr th:only-of-type {\n",
       "        vertical-align: middle;\n",
       "    }\n",
       "\n",
       "    .dataframe tbody tr th {\n",
       "        vertical-align: top;\n",
       "    }\n",
       "\n",
       "    .dataframe thead th {\n",
       "        text-align: right;\n",
       "    }\n",
       "</style>\n",
       "<table border=\"1\" class=\"dataframe\">\n",
       "  <thead>\n",
       "    <tr style=\"text-align: right;\">\n",
       "      <th></th>\n",
       "      <th>mpg</th>\n",
       "      <th>cylinders</th>\n",
       "      <th>displacement</th>\n",
       "      <th>horsepower</th>\n",
       "      <th>weight</th>\n",
       "      <th>acceleration</th>\n",
       "      <th>model_year</th>\n",
       "      <th>origin</th>\n",
       "      <th>car_name</th>\n",
       "    </tr>\n",
       "  </thead>\n",
       "  <tbody>\n",
       "    <tr>\n",
       "      <th>152</th>\n",
       "      <td>31.0</td>\n",
       "      <td>4.0</td>\n",
       "      <td>76.0</td>\n",
       "      <td>52.0</td>\n",
       "      <td>1649.0</td>\n",
       "      <td>16.5</td>\n",
       "      <td>1974.0</td>\n",
       "      <td>3</td>\n",
       "      <td>toyota corona</td>\n",
       "    </tr>\n",
       "    <tr>\n",
       "      <th>201</th>\n",
       "      <td>24.0</td>\n",
       "      <td>6.0</td>\n",
       "      <td>200.0</td>\n",
       "      <td>81.0</td>\n",
       "      <td>3012.0</td>\n",
       "      <td>17.6</td>\n",
       "      <td>1976.0</td>\n",
       "      <td>1</td>\n",
       "      <td>ford maverick</td>\n",
       "    </tr>\n",
       "    <tr>\n",
       "      <th>294</th>\n",
       "      <td>17.0</td>\n",
       "      <td>8.0</td>\n",
       "      <td>305.0</td>\n",
       "      <td>130.0</td>\n",
       "      <td>3840.0</td>\n",
       "      <td>15.4</td>\n",
       "      <td>1979.0</td>\n",
       "      <td>1</td>\n",
       "      <td>chevrolet caprice classic</td>\n",
       "    </tr>\n",
       "    <tr>\n",
       "      <th>379</th>\n",
       "      <td>34.0</td>\n",
       "      <td>4.0</td>\n",
       "      <td>112.0</td>\n",
       "      <td>88.0</td>\n",
       "      <td>2395.0</td>\n",
       "      <td>18.0</td>\n",
       "      <td>1982.0</td>\n",
       "      <td>1</td>\n",
       "      <td>chevrolet cavalier 2-door</td>\n",
       "    </tr>\n",
       "    <tr>\n",
       "      <th>386</th>\n",
       "      <td>37.0</td>\n",
       "      <td>4.0</td>\n",
       "      <td>91.0</td>\n",
       "      <td>68.0</td>\n",
       "      <td>2025.0</td>\n",
       "      <td>18.2</td>\n",
       "      <td>1982.0</td>\n",
       "      <td>3</td>\n",
       "      <td>mazda glc custom l</td>\n",
       "    </tr>\n",
       "  </tbody>\n",
       "</table>\n",
       "</div>"
      ],
      "text/plain": [
       "      mpg  cylinders  displacement  horsepower  weight  acceleration  \\\n",
       "152  31.0        4.0          76.0        52.0  1649.0          16.5   \n",
       "201  24.0        6.0         200.0        81.0  3012.0          17.6   \n",
       "294  17.0        8.0         305.0       130.0  3840.0          15.4   \n",
       "379  34.0        4.0         112.0        88.0  2395.0          18.0   \n",
       "386  37.0        4.0          91.0        68.0  2025.0          18.2   \n",
       "\n",
       "     model_year origin                   car_name  \n",
       "152      1974.0      3              toyota corona  \n",
       "201      1976.0      1              ford maverick  \n",
       "294      1979.0      1  chevrolet caprice classic  \n",
       "379      1982.0      1  chevrolet cavalier 2-door  \n",
       "386      1982.0      3         mazda glc custom l  "
      ]
     },
     "execution_count": 104,
     "metadata": {},
     "output_type": "execute_result"
    }
   ],
   "source": [
    "auto_mpg_df.sample(5)"
   ]
  },
  {
   "cell_type": "code",
   "execution_count": 105,
   "metadata": {},
   "outputs": [],
   "source": [
    "auto_mpg_df['model_year'] = auto_mpg_df['model_year'].astype(int)"
   ]
  },
  {
   "cell_type": "code",
   "execution_count": 106,
   "metadata": {},
   "outputs": [
    {
     "name": "stdout",
     "output_type": "stream",
     "text": [
      "<class 'pandas.core.frame.DataFrame'>\n",
      "RangeIndex: 409 entries, 0 to 408\n",
      "Data columns (total 9 columns):\n",
      " #   Column        Non-Null Count  Dtype   \n",
      "---  ------        --------------  -----   \n",
      " 0   mpg           400 non-null    float64 \n",
      " 1   cylinders     409 non-null    float64 \n",
      " 2   displacement  409 non-null    float64 \n",
      " 3   horsepower    403 non-null    float64 \n",
      " 4   weight        409 non-null    float64 \n",
      " 5   acceleration  409 non-null    float64 \n",
      " 6   model_year    409 non-null    int64   \n",
      " 7   origin        409 non-null    category\n",
      " 8   car_name      409 non-null    object  \n",
      "dtypes: category(1), float64(6), int64(1), object(1)\n",
      "memory usage: 26.2+ KB\n"
     ]
    }
   ],
   "source": [
    "auto_mpg_df.info()"
   ]
  },
  {
   "cell_type": "code",
   "execution_count": 107,
   "metadata": {},
   "outputs": [],
   "source": [
    "auto_mpg_df['origin_name'] = auto_mpg_df['origin'].astype(str).map({'1': 'US', '2': 'European', '3': 'Asian'})"
   ]
  },
  {
   "cell_type": "code",
   "execution_count": 108,
   "metadata": {},
   "outputs": [
    {
     "data": {
      "text/html": [
       "<div>\n",
       "<style scoped>\n",
       "    .dataframe tbody tr th:only-of-type {\n",
       "        vertical-align: middle;\n",
       "    }\n",
       "\n",
       "    .dataframe tbody tr th {\n",
       "        vertical-align: top;\n",
       "    }\n",
       "\n",
       "    .dataframe thead th {\n",
       "        text-align: right;\n",
       "    }\n",
       "</style>\n",
       "<table border=\"1\" class=\"dataframe\">\n",
       "  <thead>\n",
       "    <tr style=\"text-align: right;\">\n",
       "      <th></th>\n",
       "      <th>mpg</th>\n",
       "      <th>cylinders</th>\n",
       "      <th>displacement</th>\n",
       "      <th>horsepower</th>\n",
       "      <th>weight</th>\n",
       "      <th>acceleration</th>\n",
       "      <th>model_year</th>\n",
       "      <th>origin</th>\n",
       "      <th>car_name</th>\n",
       "      <th>origin_name</th>\n",
       "    </tr>\n",
       "  </thead>\n",
       "  <tbody>\n",
       "    <tr>\n",
       "      <th>232</th>\n",
       "      <td>15.0</td>\n",
       "      <td>8.0</td>\n",
       "      <td>302.0</td>\n",
       "      <td>130.0</td>\n",
       "      <td>4295.0</td>\n",
       "      <td>14.9</td>\n",
       "      <td>1977</td>\n",
       "      <td>1</td>\n",
       "      <td>mercury cougar brougham</td>\n",
       "      <td>US</td>\n",
       "    </tr>\n",
       "    <tr>\n",
       "      <th>83</th>\n",
       "      <td>14.0</td>\n",
       "      <td>8.0</td>\n",
       "      <td>318.0</td>\n",
       "      <td>150.0</td>\n",
       "      <td>4077.0</td>\n",
       "      <td>14.0</td>\n",
       "      <td>1972</td>\n",
       "      <td>1</td>\n",
       "      <td>plymouth satellite custom (sw)</td>\n",
       "      <td>US</td>\n",
       "    </tr>\n",
       "    <tr>\n",
       "      <th>355</th>\n",
       "      <td>32.3</td>\n",
       "      <td>4.0</td>\n",
       "      <td>97.0</td>\n",
       "      <td>67.0</td>\n",
       "      <td>2065.0</td>\n",
       "      <td>17.8</td>\n",
       "      <td>1981</td>\n",
       "      <td>3</td>\n",
       "      <td>subaru</td>\n",
       "      <td>Asian</td>\n",
       "    </tr>\n",
       "  </tbody>\n",
       "</table>\n",
       "</div>"
      ],
      "text/plain": [
       "      mpg  cylinders  displacement  horsepower  weight  acceleration  \\\n",
       "232  15.0        8.0         302.0       130.0  4295.0          14.9   \n",
       "83   14.0        8.0         318.0       150.0  4077.0          14.0   \n",
       "355  32.3        4.0          97.0        67.0  2065.0          17.8   \n",
       "\n",
       "     model_year origin                        car_name origin_name  \n",
       "232        1977      1         mercury cougar brougham          US  \n",
       "83         1972      1  plymouth satellite custom (sw)          US  \n",
       "355        1981      3                          subaru       Asian  "
      ]
     },
     "execution_count": 108,
     "metadata": {},
     "output_type": "execute_result"
    }
   ],
   "source": [
    "auto_mpg_df.sample(3)"
   ]
  },
  {
   "cell_type": "markdown",
   "metadata": {},
   "source": [
    "# Data Cleaning"
   ]
  },
  {
   "cell_type": "markdown",
   "metadata": {},
   "source": [
    "## Duplicate Data"
   ]
  },
  {
   "cell_type": "code",
   "execution_count": 109,
   "metadata": {},
   "outputs": [
    {
     "data": {
      "text/plain": [
       "0      False\n",
       "1      False\n",
       "2      False\n",
       "3      False\n",
       "4      False\n",
       "       ...  \n",
       "404    False\n",
       "405    False\n",
       "406    False\n",
       "407    False\n",
       "408    False\n",
       "Length: 409, dtype: bool"
      ]
     },
     "execution_count": 109,
     "metadata": {},
     "output_type": "execute_result"
    }
   ],
   "source": [
    "auto_mpg_df.duplicated()"
   ]
  },
  {
   "cell_type": "code",
   "execution_count": 110,
   "metadata": {},
   "outputs": [
    {
     "data": {
      "text/plain": [
       "2"
      ]
     },
     "execution_count": 110,
     "metadata": {},
     "output_type": "execute_result"
    }
   ],
   "source": [
    "auto_mpg_df.duplicated().sum()"
   ]
  },
  {
   "cell_type": "code",
   "execution_count": 111,
   "metadata": {},
   "outputs": [
    {
     "data": {
      "text/html": [
       "<div>\n",
       "<style scoped>\n",
       "    .dataframe tbody tr th:only-of-type {\n",
       "        vertical-align: middle;\n",
       "    }\n",
       "\n",
       "    .dataframe tbody tr th {\n",
       "        vertical-align: top;\n",
       "    }\n",
       "\n",
       "    .dataframe thead th {\n",
       "        text-align: right;\n",
       "    }\n",
       "</style>\n",
       "<table border=\"1\" class=\"dataframe\">\n",
       "  <thead>\n",
       "    <tr style=\"text-align: right;\">\n",
       "      <th></th>\n",
       "      <th>mpg</th>\n",
       "      <th>cylinders</th>\n",
       "      <th>displacement</th>\n",
       "      <th>horsepower</th>\n",
       "      <th>weight</th>\n",
       "      <th>acceleration</th>\n",
       "      <th>model_year</th>\n",
       "      <th>origin</th>\n",
       "      <th>car_name</th>\n",
       "      <th>origin_name</th>\n",
       "    </tr>\n",
       "  </thead>\n",
       "  <tbody>\n",
       "    <tr>\n",
       "      <th>255</th>\n",
       "      <td>NaN</td>\n",
       "      <td>8.0</td>\n",
       "      <td>383.0</td>\n",
       "      <td>175.0</td>\n",
       "      <td>4166.0</td>\n",
       "      <td>10.5</td>\n",
       "      <td>1970</td>\n",
       "      <td>1</td>\n",
       "      <td>plymouth satellite (sw)</td>\n",
       "      <td>US</td>\n",
       "    </tr>\n",
       "    <tr>\n",
       "      <th>393</th>\n",
       "      <td>16.0</td>\n",
       "      <td>8.0</td>\n",
       "      <td>400.0</td>\n",
       "      <td>180.0</td>\n",
       "      <td>4220.0</td>\n",
       "      <td>11.1</td>\n",
       "      <td>1977</td>\n",
       "      <td>1</td>\n",
       "      <td>pontiac grand prix lj</td>\n",
       "      <td>US</td>\n",
       "    </tr>\n",
       "  </tbody>\n",
       "</table>\n",
       "</div>"
      ],
      "text/plain": [
       "      mpg  cylinders  displacement  horsepower  weight  acceleration  \\\n",
       "255   NaN        8.0         383.0       175.0  4166.0          10.5   \n",
       "393  16.0        8.0         400.0       180.0  4220.0          11.1   \n",
       "\n",
       "     model_year origin                 car_name origin_name  \n",
       "255        1970      1  plymouth satellite (sw)          US  \n",
       "393        1977      1    pontiac grand prix lj          US  "
      ]
     },
     "execution_count": 111,
     "metadata": {},
     "output_type": "execute_result"
    }
   ],
   "source": [
    "auto_mpg_df[auto_mpg_df.duplicated()]"
   ]
  },
  {
   "cell_type": "code",
   "execution_count": 112,
   "metadata": {},
   "outputs": [
    {
     "data": {
      "text/plain": [
       "0"
      ]
     },
     "execution_count": 112,
     "metadata": {},
     "output_type": "execute_result"
    }
   ],
   "source": [
    "auto_mpg_without_duplicate1 = auto_mpg_df[~auto_mpg_df.duplicated()]\n",
    "auto_mpg_without_duplicate1.duplicated().sum()"
   ]
  },
  {
   "cell_type": "code",
   "execution_count": 113,
   "metadata": {},
   "outputs": [
    {
     "data": {
      "text/plain": [
       "0"
      ]
     },
     "execution_count": 113,
     "metadata": {},
     "output_type": "execute_result"
    }
   ],
   "source": [
    "auto_mpg_without_duplicate2 = auto_mpg_df.drop_duplicates()\n",
    "auto_mpg_without_duplicate2.duplicated().sum()"
   ]
  },
  {
   "cell_type": "code",
   "execution_count": 114,
   "metadata": {},
   "outputs": [],
   "source": [
    "# auto_mpg_df = auto_mpg_df.drop_duplicates()\n",
    "auto_mpg_df.drop_duplicates(inplace=True)"
   ]
  },
  {
   "cell_type": "code",
   "execution_count": 115,
   "metadata": {},
   "outputs": [
    {
     "data": {
      "text/plain": [
       "0"
      ]
     },
     "execution_count": 115,
     "metadata": {},
     "output_type": "execute_result"
    }
   ],
   "source": [
    "auto_mpg_df.duplicated().sum()"
   ]
  },
  {
   "cell_type": "code",
   "execution_count": 116,
   "metadata": {},
   "outputs": [
    {
     "name": "stdout",
     "output_type": "stream",
     "text": [
      "<class 'pandas.core.frame.DataFrame'>\n",
      "Int64Index: 407 entries, 0 to 408\n",
      "Data columns (total 10 columns):\n",
      " #   Column        Non-Null Count  Dtype   \n",
      "---  ------        --------------  -----   \n",
      " 0   mpg           399 non-null    float64 \n",
      " 1   cylinders     407 non-null    float64 \n",
      " 2   displacement  407 non-null    float64 \n",
      " 3   horsepower    401 non-null    float64 \n",
      " 4   weight        407 non-null    float64 \n",
      " 5   acceleration  407 non-null    float64 \n",
      " 6   model_year    407 non-null    int64   \n",
      " 7   origin        407 non-null    category\n",
      " 8   car_name      407 non-null    object  \n",
      " 9   origin_name   407 non-null    object  \n",
      "dtypes: category(1), float64(6), int64(1), object(2)\n",
      "memory usage: 32.3+ KB\n"
     ]
    }
   ],
   "source": [
    "auto_mpg_df.info()"
   ]
  },
  {
   "cell_type": "markdown",
   "metadata": {},
   "source": [
    "## Missing Data, Anomalies, and Outliers"
   ]
  },
  {
   "cell_type": "code",
   "execution_count": 117,
   "metadata": {},
   "outputs": [
    {
     "data": {
      "text/html": [
       "<div>\n",
       "<style scoped>\n",
       "    .dataframe tbody tr th:only-of-type {\n",
       "        vertical-align: middle;\n",
       "    }\n",
       "\n",
       "    .dataframe tbody tr th {\n",
       "        vertical-align: top;\n",
       "    }\n",
       "\n",
       "    .dataframe thead th {\n",
       "        text-align: right;\n",
       "    }\n",
       "</style>\n",
       "<table border=\"1\" class=\"dataframe\">\n",
       "  <thead>\n",
       "    <tr style=\"text-align: right;\">\n",
       "      <th></th>\n",
       "      <th>mpg</th>\n",
       "      <th>cylinders</th>\n",
       "      <th>displacement</th>\n",
       "      <th>horsepower</th>\n",
       "      <th>weight</th>\n",
       "      <th>acceleration</th>\n",
       "      <th>model_year</th>\n",
       "    </tr>\n",
       "  </thead>\n",
       "  <tbody>\n",
       "    <tr>\n",
       "      <th>count</th>\n",
       "      <td>399.000000</td>\n",
       "      <td>407.000000</td>\n",
       "      <td>407.000000</td>\n",
       "      <td>401.000000</td>\n",
       "      <td>407.000000</td>\n",
       "      <td>407.000000</td>\n",
       "      <td>407.000000</td>\n",
       "    </tr>\n",
       "    <tr>\n",
       "      <th>mean</th>\n",
       "      <td>23.500752</td>\n",
       "      <td>5.476658</td>\n",
       "      <td>194.797297</td>\n",
       "      <td>105.069825</td>\n",
       "      <td>2980.157248</td>\n",
       "      <td>15.519656</td>\n",
       "      <td>1975.909091</td>\n",
       "    </tr>\n",
       "    <tr>\n",
       "      <th>std</th>\n",
       "      <td>7.811039</td>\n",
       "      <td>1.710247</td>\n",
       "      <td>106.180724</td>\n",
       "      <td>38.721120</td>\n",
       "      <td>846.093527</td>\n",
       "      <td>2.799904</td>\n",
       "      <td>3.752056</td>\n",
       "    </tr>\n",
       "    <tr>\n",
       "      <th>min</th>\n",
       "      <td>9.000000</td>\n",
       "      <td>3.000000</td>\n",
       "      <td>4.000000</td>\n",
       "      <td>46.000000</td>\n",
       "      <td>1613.000000</td>\n",
       "      <td>8.000000</td>\n",
       "      <td>1970.000000</td>\n",
       "    </tr>\n",
       "    <tr>\n",
       "      <th>25%</th>\n",
       "      <td>17.500000</td>\n",
       "      <td>4.000000</td>\n",
       "      <td>104.500000</td>\n",
       "      <td>76.000000</td>\n",
       "      <td>2227.000000</td>\n",
       "      <td>13.700000</td>\n",
       "      <td>1973.000000</td>\n",
       "    </tr>\n",
       "    <tr>\n",
       "      <th>50%</th>\n",
       "      <td>23.000000</td>\n",
       "      <td>4.000000</td>\n",
       "      <td>151.000000</td>\n",
       "      <td>95.000000</td>\n",
       "      <td>2830.000000</td>\n",
       "      <td>15.500000</td>\n",
       "      <td>1976.000000</td>\n",
       "    </tr>\n",
       "    <tr>\n",
       "      <th>75%</th>\n",
       "      <td>29.000000</td>\n",
       "      <td>8.000000</td>\n",
       "      <td>302.000000</td>\n",
       "      <td>130.000000</td>\n",
       "      <td>3616.500000</td>\n",
       "      <td>17.150000</td>\n",
       "      <td>1979.000000</td>\n",
       "    </tr>\n",
       "    <tr>\n",
       "      <th>max</th>\n",
       "      <td>46.600000</td>\n",
       "      <td>8.000000</td>\n",
       "      <td>502.000000</td>\n",
       "      <td>230.000000</td>\n",
       "      <td>5140.000000</td>\n",
       "      <td>24.800000</td>\n",
       "      <td>1982.000000</td>\n",
       "    </tr>\n",
       "  </tbody>\n",
       "</table>\n",
       "</div>"
      ],
      "text/plain": [
       "              mpg   cylinders  displacement  horsepower       weight  \\\n",
       "count  399.000000  407.000000    407.000000  401.000000   407.000000   \n",
       "mean    23.500752    5.476658    194.797297  105.069825  2980.157248   \n",
       "std      7.811039    1.710247    106.180724   38.721120   846.093527   \n",
       "min      9.000000    3.000000      4.000000   46.000000  1613.000000   \n",
       "25%     17.500000    4.000000    104.500000   76.000000  2227.000000   \n",
       "50%     23.000000    4.000000    151.000000   95.000000  2830.000000   \n",
       "75%     29.000000    8.000000    302.000000  130.000000  3616.500000   \n",
       "max     46.600000    8.000000    502.000000  230.000000  5140.000000   \n",
       "\n",
       "       acceleration   model_year  \n",
       "count    407.000000   407.000000  \n",
       "mean      15.519656  1975.909091  \n",
       "std        2.799904     3.752056  \n",
       "min        8.000000  1970.000000  \n",
       "25%       13.700000  1973.000000  \n",
       "50%       15.500000  1976.000000  \n",
       "75%       17.150000  1979.000000  \n",
       "max       24.800000  1982.000000  "
      ]
     },
     "execution_count": 117,
     "metadata": {},
     "output_type": "execute_result"
    }
   ],
   "source": [
    "auto_mpg_df.describe()"
   ]
  },
  {
   "cell_type": "code",
   "execution_count": 118,
   "metadata": {},
   "outputs": [
    {
     "data": {
      "text/plain": [
       "194.7972972972973"
      ]
     },
     "execution_count": 118,
     "metadata": {},
     "output_type": "execute_result"
    }
   ],
   "source": [
    "auto_mpg_df['displacement'].mean()"
   ]
  },
  {
   "cell_type": "code",
   "execution_count": 119,
   "metadata": {},
   "outputs": [
    {
     "data": {
      "text/plain": [
       "151.0"
      ]
     },
     "execution_count": 119,
     "metadata": {},
     "output_type": "execute_result"
    }
   ],
   "source": [
    "auto_mpg_df['displacement'].median()"
   ]
  },
  {
   "cell_type": "code",
   "execution_count": 120,
   "metadata": {},
   "outputs": [
    {
     "data": {
      "text/plain": [
       "184.2584097859327"
      ]
     },
     "execution_count": 120,
     "metadata": {},
     "output_type": "execute_result"
    }
   ],
   "source": [
    "from scipy.stats import trim_mean\n",
    "\n",
    "trim_mean(auto_mpg_df['displacement'], 0.1)"
   ]
  },
  {
   "cell_type": "code",
   "execution_count": 121,
   "metadata": {},
   "outputs": [
    {
     "data": {
      "text/plain": [
       "mpg             8\n",
       "cylinders       0\n",
       "displacement    0\n",
       "horsepower      6\n",
       "weight          0\n",
       "acceleration    0\n",
       "model_year      0\n",
       "origin          0\n",
       "car_name        0\n",
       "origin_name     0\n",
       "dtype: int64"
      ]
     },
     "execution_count": 121,
     "metadata": {},
     "output_type": "execute_result"
    }
   ],
   "source": [
    "auto_mpg_df.isnull().sum()"
   ]
  },
  {
   "cell_type": "code",
   "execution_count": 122,
   "metadata": {},
   "outputs": [
    {
     "data": {
      "text/html": [
       "<div>\n",
       "<style scoped>\n",
       "    .dataframe tbody tr th:only-of-type {\n",
       "        vertical-align: middle;\n",
       "    }\n",
       "\n",
       "    .dataframe tbody tr th {\n",
       "        vertical-align: top;\n",
       "    }\n",
       "\n",
       "    .dataframe thead th {\n",
       "        text-align: right;\n",
       "    }\n",
       "</style>\n",
       "<table border=\"1\" class=\"dataframe\">\n",
       "  <thead>\n",
       "    <tr style=\"text-align: right;\">\n",
       "      <th></th>\n",
       "      <th>mpg</th>\n",
       "      <th>cylinders</th>\n",
       "      <th>displacement</th>\n",
       "      <th>horsepower</th>\n",
       "      <th>weight</th>\n",
       "      <th>acceleration</th>\n",
       "      <th>model_year</th>\n",
       "      <th>origin</th>\n",
       "      <th>car_name</th>\n",
       "      <th>origin_name</th>\n",
       "    </tr>\n",
       "  </thead>\n",
       "  <tbody>\n",
       "    <tr>\n",
       "      <th>10</th>\n",
       "      <td>NaN</td>\n",
       "      <td>4.0</td>\n",
       "      <td>133.0</td>\n",
       "      <td>115.0</td>\n",
       "      <td>3090.0</td>\n",
       "      <td>17.5</td>\n",
       "      <td>1970</td>\n",
       "      <td>2</td>\n",
       "      <td>citroen ds-21 pallas</td>\n",
       "      <td>European</td>\n",
       "    </tr>\n",
       "    <tr>\n",
       "      <th>11</th>\n",
       "      <td>NaN</td>\n",
       "      <td>8.0</td>\n",
       "      <td>350.0</td>\n",
       "      <td>165.0</td>\n",
       "      <td>4142.0</td>\n",
       "      <td>11.5</td>\n",
       "      <td>1970</td>\n",
       "      <td>1</td>\n",
       "      <td>chevrolet chevelle concours (sw)</td>\n",
       "      <td>US</td>\n",
       "    </tr>\n",
       "    <tr>\n",
       "      <th>12</th>\n",
       "      <td>NaN</td>\n",
       "      <td>8.0</td>\n",
       "      <td>351.0</td>\n",
       "      <td>153.0</td>\n",
       "      <td>4034.0</td>\n",
       "      <td>11.0</td>\n",
       "      <td>1970</td>\n",
       "      <td>1</td>\n",
       "      <td>ford torino (sw)</td>\n",
       "      <td>US</td>\n",
       "    </tr>\n",
       "    <tr>\n",
       "      <th>13</th>\n",
       "      <td>NaN</td>\n",
       "      <td>8.0</td>\n",
       "      <td>383.0</td>\n",
       "      <td>175.0</td>\n",
       "      <td>4166.0</td>\n",
       "      <td>10.5</td>\n",
       "      <td>1970</td>\n",
       "      <td>1</td>\n",
       "      <td>plymouth satellite (sw)</td>\n",
       "      <td>US</td>\n",
       "    </tr>\n",
       "    <tr>\n",
       "      <th>14</th>\n",
       "      <td>NaN</td>\n",
       "      <td>8.0</td>\n",
       "      <td>360.0</td>\n",
       "      <td>175.0</td>\n",
       "      <td>3850.0</td>\n",
       "      <td>11.0</td>\n",
       "      <td>1970</td>\n",
       "      <td>1</td>\n",
       "      <td>amc rebel sst (sw)</td>\n",
       "      <td>US</td>\n",
       "    </tr>\n",
       "    <tr>\n",
       "      <th>17</th>\n",
       "      <td>NaN</td>\n",
       "      <td>8.0</td>\n",
       "      <td>302.0</td>\n",
       "      <td>140.0</td>\n",
       "      <td>3353.0</td>\n",
       "      <td>8.0</td>\n",
       "      <td>1970</td>\n",
       "      <td>1</td>\n",
       "      <td>ford mustang boss 302</td>\n",
       "      <td>US</td>\n",
       "    </tr>\n",
       "    <tr>\n",
       "      <th>39</th>\n",
       "      <td>NaN</td>\n",
       "      <td>4.0</td>\n",
       "      <td>97.0</td>\n",
       "      <td>48.0</td>\n",
       "      <td>1978.0</td>\n",
       "      <td>20.0</td>\n",
       "      <td>1971</td>\n",
       "      <td>2</td>\n",
       "      <td>volkswagen super beetle 117</td>\n",
       "      <td>European</td>\n",
       "    </tr>\n",
       "    <tr>\n",
       "      <th>369</th>\n",
       "      <td>NaN</td>\n",
       "      <td>4.0</td>\n",
       "      <td>121.0</td>\n",
       "      <td>110.0</td>\n",
       "      <td>2800.0</td>\n",
       "      <td>15.4</td>\n",
       "      <td>1981</td>\n",
       "      <td>2</td>\n",
       "      <td>saab 900s</td>\n",
       "      <td>European</td>\n",
       "    </tr>\n",
       "  </tbody>\n",
       "</table>\n",
       "</div>"
      ],
      "text/plain": [
       "     mpg  cylinders  displacement  horsepower  weight  acceleration  \\\n",
       "10   NaN        4.0         133.0       115.0  3090.0          17.5   \n",
       "11   NaN        8.0         350.0       165.0  4142.0          11.5   \n",
       "12   NaN        8.0         351.0       153.0  4034.0          11.0   \n",
       "13   NaN        8.0         383.0       175.0  4166.0          10.5   \n",
       "14   NaN        8.0         360.0       175.0  3850.0          11.0   \n",
       "17   NaN        8.0         302.0       140.0  3353.0           8.0   \n",
       "39   NaN        4.0          97.0        48.0  1978.0          20.0   \n",
       "369  NaN        4.0         121.0       110.0  2800.0          15.4   \n",
       "\n",
       "     model_year origin                          car_name origin_name  \n",
       "10         1970      2              citroen ds-21 pallas    European  \n",
       "11         1970      1  chevrolet chevelle concours (sw)          US  \n",
       "12         1970      1                  ford torino (sw)          US  \n",
       "13         1970      1           plymouth satellite (sw)          US  \n",
       "14         1970      1                amc rebel sst (sw)          US  \n",
       "17         1970      1             ford mustang boss 302          US  \n",
       "39         1971      2       volkswagen super beetle 117    European  \n",
       "369        1981      2                         saab 900s    European  "
      ]
     },
     "execution_count": 122,
     "metadata": {},
     "output_type": "execute_result"
    }
   ],
   "source": [
    "auto_mpg_df[auto_mpg_df['mpg'].isnull()]"
   ]
  },
  {
   "cell_type": "code",
   "execution_count": 123,
   "metadata": {},
   "outputs": [],
   "source": [
    "auto_mpg_df.dropna(subset=[\"mpg\"], inplace=True)"
   ]
  },
  {
   "cell_type": "code",
   "execution_count": 124,
   "metadata": {},
   "outputs": [
    {
     "data": {
      "text/html": [
       "<div>\n",
       "<style scoped>\n",
       "    .dataframe tbody tr th:only-of-type {\n",
       "        vertical-align: middle;\n",
       "    }\n",
       "\n",
       "    .dataframe tbody tr th {\n",
       "        vertical-align: top;\n",
       "    }\n",
       "\n",
       "    .dataframe thead th {\n",
       "        text-align: right;\n",
       "    }\n",
       "</style>\n",
       "<table border=\"1\" class=\"dataframe\">\n",
       "  <thead>\n",
       "    <tr style=\"text-align: right;\">\n",
       "      <th></th>\n",
       "      <th>mpg</th>\n",
       "      <th>cylinders</th>\n",
       "      <th>displacement</th>\n",
       "      <th>horsepower</th>\n",
       "      <th>weight</th>\n",
       "      <th>acceleration</th>\n",
       "      <th>model_year</th>\n",
       "      <th>origin</th>\n",
       "      <th>car_name</th>\n",
       "      <th>origin_name</th>\n",
       "    </tr>\n",
       "  </thead>\n",
       "  <tbody>\n",
       "  </tbody>\n",
       "</table>\n",
       "</div>"
      ],
      "text/plain": [
       "Empty DataFrame\n",
       "Columns: [mpg, cylinders, displacement, horsepower, weight, acceleration, model_year, origin, car_name, origin_name]\n",
       "Index: []"
      ]
     },
     "execution_count": 124,
     "metadata": {},
     "output_type": "execute_result"
    }
   ],
   "source": [
    "auto_mpg_df[auto_mpg_df['mpg'].isnull()]"
   ]
  },
  {
   "cell_type": "code",
   "execution_count": 125,
   "metadata": {},
   "outputs": [
    {
     "name": "stdout",
     "output_type": "stream",
     "text": [
      "mean is 193.44736842105263, trimmed mean is 182.67445482866043, median is 146.0\n"
     ]
    }
   ],
   "source": [
    "# Central Tendency measures\n",
    "auto_displacement_mean = auto_mpg_df['displacement'].mean()\n",
    "auto_displacement_trimmed_mean = trim_mean(auto_mpg_df['displacement'], 0.1)\n",
    "auto_displacement_median = auto_mpg_df['displacement'].median()\n",
    "\n",
    "print(\"mean is {}, trimmed mean is {}, median is {}\".format(auto_displacement_mean, auto_displacement_trimmed_mean, auto_displacement_median))"
   ]
  },
  {
   "cell_type": "code",
   "execution_count": 126,
   "metadata": {},
   "outputs": [
    {
     "data": {
      "image/png": "[encoded data removed]",
      "text/plain": [
       "<Figure size 640x480 with 1 Axes>"
      ]
     },
     "metadata": {},
     "output_type": "display_data"
    }
   ],
   "source": [
    "import matplotlib as mpl\n",
    "import matplotlib.pyplot as plt\n",
    "%matplotlib inline\n",
    "\n",
    "plt.style.use(\"bmh\")\n",
    "\n",
    "auto_mpg_df['displacement'].plot(kind=\"hist\", bins= 30)\n",
    "\n",
    "plt.show()"
   ]
  },
  {
   "cell_type": "code",
   "execution_count": 127,
   "metadata": {},
   "outputs": [
    {
     "data": {
      "image/png": "[encoded data removed]",
      "text/plain": [
       "<Figure size 800x400 with 1 Axes>"
      ]
     },
     "metadata": {},
     "output_type": "display_data"
    }
   ],
   "source": [
    "%matplotlib inline\n",
    "import matplotlib as mpl\n",
    "import matplotlib.pyplot as plt\n",
    "plt.style.use(\"bmh\")\n",
    "\n",
    "\n",
    "fig, ax = plt.subplots(figsize = (8,4))\n",
    "\n",
    "auto_mpg_df['displacement'].plot(kind=\"hist\", bins=30, alpha = 0.65)\n",
    "\n",
    "ax.axvline(auto_displacement_median, alpha = 0.8, linestyle = \":\")\n",
    "ax.text(auto_displacement_median-1, 50, \"Median\", size = 10, alpha = 0.8)\n",
    "\n",
    "ax.axvline(auto_displacement_trimmed_mean, alpha = 0.8, linestyle = \":\")\n",
    "ax.text(auto_displacement_trimmed_mean+1, 40, \"Trimmed Mean\", size = 10, alpha = 0.8)\n",
    "\n",
    "ax.axvline(auto_displacement_mean, alpha = 0.8, linestyle = \":\")\n",
    "ax.text(auto_displacement_mean-1, 30, \"Mean\", size = 10, alpha = 0.8)\n",
    "\n",
    "plt.show()"
   ]
  },
  {
   "cell_type": "code",
   "execution_count": 128,
   "metadata": {},
   "outputs": [
    {
     "data": {
      "image/png": "[encoded data removed]",
      "text/plain": [
       "<Figure size 800x400 with 1 Axes>"
      ]
     },
     "metadata": {},
     "output_type": "display_data"
    }
   ],
   "source": [
    "%matplotlib inline\n",
    "import matplotlib as mpl\n",
    "import matplotlib.pyplot as plt\n",
    "# plt.style.use(\"bmh\")\n",
    "\n",
    "\n",
    "fig, ax = plt.subplots(figsize = (8,4))\n",
    "\n",
    "auto_mpg_df['displacement'].plot(kind=\"hist\", density= True, bins=30, alpha = 0.65)\n",
    "auto_mpg_df['displacement'].plot(kind=\"kde\")\n",
    "\n",
    "ax.axvline(auto_displacement_mean, alpha = 0.8, linestyle = \":\")\n",
    "ax.axvline(auto_displacement_median, alpha = 0.8, linestyle = \":\")\n",
    "ax.axvline(auto_displacement_trimmed_mean, alpha = 0.8, linestyle = \":\")\n",
    "\n",
    "ax.set_ylim(0, .011)\n",
    "ax.set_yticklabels([])\n",
    "ax.set_ylabel(\"\")\n",
    "\n",
    "ax.text(auto_displacement_mean-.1, .01, \"Mean\", size = 10, alpha = 0.8)\n",
    "ax.text(auto_displacement_median-.4, .0075, \"Median\", size = 10, alpha = 0.8)\n",
    "ax.text(auto_displacement_trimmed_mean+.4, .0050, \"Trimmed Mean\", size = 10, alpha = 0.8)\n",
    "\n",
    "ax.tick_params(left = False, bottom = False)\n",
    "for ax, spine in ax.spines.items():\n",
    "    spine.set_visible(False)\n",
    "\n",
    "plt.show()"
   ]
  },
  {
   "cell_type": "code",
   "execution_count": 129,
   "metadata": {},
   "outputs": [],
   "source": [
    "auto_mpg_df['displacement'].fillna(auto_displacement_median, inplace=True)"
   ]
  },
  {
   "cell_type": "code",
   "execution_count": 130,
   "metadata": {},
   "outputs": [
    {
     "data": {
      "text/plain": [
       "mpg             0\n",
       "cylinders       0\n",
       "displacement    0\n",
       "horsepower      6\n",
       "weight          0\n",
       "acceleration    0\n",
       "model_year      0\n",
       "origin          0\n",
       "car_name        0\n",
       "origin_name     0\n",
       "dtype: int64"
      ]
     },
     "execution_count": 130,
     "metadata": {},
     "output_type": "execute_result"
    }
   ],
   "source": [
    "auto_mpg_df.isnull().sum()"
   ]
  },
  {
   "cell_type": "code",
   "execution_count": 131,
   "metadata": {},
   "outputs": [
    {
     "data": {
      "image/png": "[encoded data removed]",
      "text/plain": [
       "<Figure size 2000x1500 with 9 Axes>"
      ]
     },
     "metadata": {},
     "output_type": "display_data"
    }
   ],
   "source": [
    "%matplotlib inline\n",
    "import matplotlib as mpl\n",
    "import matplotlib.pyplot as plt\n",
    "\n",
    "\n",
    "auto_mpg_df.hist(bins=50, figsize=(20,15))\n",
    "plt.show()"
   ]
  },
  {
   "cell_type": "markdown",
   "metadata": {},
   "source": [
    "## Anomalies and outliers"
   ]
  },
  {
   "cell_type": "code",
   "execution_count": 132,
   "metadata": {},
   "outputs": [
    {
     "data": {
      "text/plain": [
       "<AxesSubplot: >"
      ]
     },
     "execution_count": 132,
     "metadata": {},
     "output_type": "execute_result"
    },
    {
     "data": {
      "image/png": "[encoded data removed]",
      "text/plain": [
       "<Figure size 640x480 with 1 Axes>"
      ]
     },
     "metadata": {},
     "output_type": "display_data"
    }
   ],
   "source": [
    "auto_mpg_df['displacement'].plot(kind=\"box\")"
   ]
  },
  {
   "cell_type": "code",
   "execution_count": 133,
   "metadata": {},
   "outputs": [
    {
     "data": {
      "text/plain": [
       "count    399.000000\n",
       "mean     193.447368\n",
       "std      105.563056\n",
       "min        4.000000\n",
       "25%      102.500000\n",
       "50%      146.000000\n",
       "75%      262.000000\n",
       "max      502.000000\n",
       "Name: displacement, dtype: float64"
      ]
     },
     "execution_count": 133,
     "metadata": {},
     "output_type": "execute_result"
    }
   ],
   "source": [
    "auto_mpg_df['displacement'].describe()"
   ]
  },
  {
   "cell_type": "code",
   "execution_count": 134,
   "metadata": {},
   "outputs": [
    {
     "name": "stdout",
     "output_type": "stream",
     "text": [
      "Q1 is 102.5 and Q3 is 262.0\n"
     ]
    }
   ],
   "source": [
    "q1,q3 = auto_mpg_df['displacement'].quantile([0.25, 0.75])\n",
    "print(\"Q1 is {} and Q3 is {}\".format(q1, q3))"
   ]
  },
  {
   "cell_type": "code",
   "execution_count": 137,
   "metadata": {},
   "outputs": [
    {
     "name": "stdout",
     "output_type": "stream",
     "text": [
      "Q1 is 102.5 and Q3 is 262.0\n",
      "IQR is 159.5\n",
      "The lower bound is -136.75, and the upper bound is 501.25\n"
     ]
    }
   ],
   "source": [
    "Q1 = auto_mpg_df['displacement'].quantile(0.25)\n",
    "Q3 = auto_mpg_df['displacement'].quantile(0.75)\n",
    "print(\"Q1 is {} and Q3 is {}\".format(Q1, Q3))\n",
    "IQR = Q3 - Q1\n",
    "print(\"IQR is {}\".format(IQR))\n",
    "lower_bound = Q1 - 1.5 * IQR\n",
    "upper_bound = Q3 + 1.5 * IQR\n",
    "\n",
    "print(\"The lower bound is {}, and the upper bound is {}\".format(lower_bound, upper_bound))"
   ]
  },
  {
   "cell_type": "code",
   "execution_count": 138,
   "metadata": {},
   "outputs": [
    {
     "data": {
      "text/html": [
       "<div>\n",
       "<style scoped>\n",
       "    .dataframe tbody tr th:only-of-type {\n",
       "        vertical-align: middle;\n",
       "    }\n",
       "\n",
       "    .dataframe tbody tr th {\n",
       "        vertical-align: top;\n",
       "    }\n",
       "\n",
       "    .dataframe thead th {\n",
       "        text-align: right;\n",
       "    }\n",
       "</style>\n",
       "<table border=\"1\" class=\"dataframe\">\n",
       "  <thead>\n",
       "    <tr style=\"text-align: right;\">\n",
       "      <th></th>\n",
       "      <th>mpg</th>\n",
       "      <th>cylinders</th>\n",
       "      <th>displacement</th>\n",
       "      <th>horsepower</th>\n",
       "      <th>weight</th>\n",
       "      <th>acceleration</th>\n",
       "      <th>model_year</th>\n",
       "      <th>origin</th>\n",
       "      <th>car_name</th>\n",
       "      <th>origin_name</th>\n",
       "    </tr>\n",
       "  </thead>\n",
       "  <tbody>\n",
       "    <tr>\n",
       "      <th>43</th>\n",
       "      <td>18.0</td>\n",
       "      <td>6.0</td>\n",
       "      <td>502.0</td>\n",
       "      <td>100.0</td>\n",
       "      <td>3282.0</td>\n",
       "      <td>15.5</td>\n",
       "      <td>1971</td>\n",
       "      <td>1</td>\n",
       "      <td>outlier car</td>\n",
       "      <td>US</td>\n",
       "    </tr>\n",
       "  </tbody>\n",
       "</table>\n",
       "</div>"
      ],
      "text/plain": [
       "     mpg  cylinders  displacement  horsepower  weight  acceleration  \\\n",
       "43  18.0        6.0         502.0       100.0  3282.0          15.5   \n",
       "\n",
       "    model_year origin     car_name origin_name  \n",
       "43        1971      1  outlier car          US  "
      ]
     },
     "execution_count": 138,
     "metadata": {},
     "output_type": "execute_result"
    }
   ],
   "source": [
    "auto_mpg_df[\n",
    "  (auto_mpg_df['displacement'] < lower_bound) | (auto_mpg_df['displacement'] > upper_bound)\n",
    "]"
   ]
  },
  {
   "cell_type": "code",
   "execution_count": 139,
   "metadata": {},
   "outputs": [],
   "source": [
    "auto_mpg_df.drop(\n",
    "  auto_mpg_df[\n",
    "  (auto_mpg_df['displacement'] < lower_bound) | (auto_mpg_df['displacement'] > upper_bound)\n",
    "].index, inplace = True\n",
    ")"
   ]
  },
  {
   "cell_type": "code",
   "execution_count": 140,
   "metadata": {},
   "outputs": [
    {
     "data": {
      "text/html": [
       "<div>\n",
       "<style scoped>\n",
       "    .dataframe tbody tr th:only-of-type {\n",
       "        vertical-align: middle;\n",
       "    }\n",
       "\n",
       "    .dataframe tbody tr th {\n",
       "        vertical-align: top;\n",
       "    }\n",
       "\n",
       "    .dataframe thead th {\n",
       "        text-align: right;\n",
       "    }\n",
       "</style>\n",
       "<table border=\"1\" class=\"dataframe\">\n",
       "  <thead>\n",
       "    <tr style=\"text-align: right;\">\n",
       "      <th></th>\n",
       "      <th>mpg</th>\n",
       "      <th>cylinders</th>\n",
       "      <th>displacement</th>\n",
       "      <th>horsepower</th>\n",
       "      <th>weight</th>\n",
       "      <th>acceleration</th>\n",
       "      <th>model_year</th>\n",
       "      <th>origin</th>\n",
       "      <th>car_name</th>\n",
       "      <th>origin_name</th>\n",
       "    </tr>\n",
       "  </thead>\n",
       "  <tbody>\n",
       "  </tbody>\n",
       "</table>\n",
       "</div>"
      ],
      "text/plain": [
       "Empty DataFrame\n",
       "Columns: [mpg, cylinders, displacement, horsepower, weight, acceleration, model_year, origin, car_name, origin_name]\n",
       "Index: []"
      ]
     },
     "execution_count": 140,
     "metadata": {},
     "output_type": "execute_result"
    }
   ],
   "source": [
    "auto_mpg_df[\n",
    "  (auto_mpg_df['displacement'] < lower_bound) | (auto_mpg_df['displacement'] > upper_bound)\n",
    "]"
   ]
  },
  {
   "cell_type": "code",
   "execution_count": 141,
   "metadata": {},
   "outputs": [
    {
     "data": {
      "text/plain": [
       "<AxesSubplot: >"
      ]
     },
     "execution_count": 141,
     "metadata": {},
     "output_type": "execute_result"
    },
    {
     "data": {
      "image/png": "[encoded data removed]",
      "text/plain": [
       "<Figure size 640x480 with 1 Axes>"
      ]
     },
     "metadata": {},
     "output_type": "display_data"
    }
   ],
   "source": [
    "auto_mpg_df['displacement'].plot(kind=\"box\")"
   ]
  },
  {
   "cell_type": "markdown",
   "metadata": {},
   "source": [
    "# Visualization"
   ]
  },
  {
   "cell_type": "markdown",
   "metadata": {},
   "source": []
  }
 ],
 "metadata": {
  "kernelspec": {
   "display_name": "Python 3.10.6 ('Sandbox-HnbTDpGS')",
   "language": "python",
   "name": "python3"
  },
  "language_info": {
   "codemirror_mode": {
    "name": "ipython",
    "version": 3
   },
   "file_extension": ".py",
   "mimetype": "text/x-python",
   "name": "python",
   "nbconvert_exporter": "python",
   "pygments_lexer": "ipython3",
   "version": "3.10.6"
  },
  "orig_nbformat": 4,
  "vscode": {
   "interpreter": {
    "hash": "af1c6585e93c23c7664674f9ced45a31a4054cdb8480387a631c4a4c3b6a5322"
   }
  }
 },
 "nbformat": 4,
 "nbformat_minor": 2
}
